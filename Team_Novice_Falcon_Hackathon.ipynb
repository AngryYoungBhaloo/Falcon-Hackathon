{
  "nbformat": 4,
  "nbformat_minor": 0,
  "metadata": {
    "colab": {
      "provenance": []
    },
    "kernelspec": {
      "name": "python3",
      "display_name": "Python 3"
    },
    "language_info": {
      "name": "python"
    }
  },
  "cells": [
    {
      "cell_type": "code",
      "execution_count": 2,
      "metadata": {
        "id": "XpJf3oIzc2D9",
        "colab": {
          "base_uri": "https://localhost:8080/"
        },
        "outputId": "97d77c3a-dd9e-459f-fa79-38e6419075f4"
      },
      "outputs": [
        {
          "output_type": "stream",
          "name": "stdout",
          "text": [
            "Mounted at /content/drive\n"
          ]
        }
      ],
      "source": [
        "#importing necessary libraries\n",
        "import networkx as nx\n",
        "import pandas as pd\n",
        "import spacy\n",
        "\n",
        "from google.colab import drive\n",
        "drive.mount('/content/drive')"
      ]
    },
    {
      "cell_type": "markdown",
      "source": [
        "Twitter Dataset\n",
        "Can be found here: https://www.kaggle.com/datasets/thoughtvector/customer-support-on-twitter"
      ],
      "metadata": {
        "id": "gepf9Nuh384s"
      }
    },
    {
      "cell_type": "markdown",
      "source": [
        "The dataset is a CSV, where each row is a tweet. The different columns are described below. Every conversation included has at least one request from a consumer and at least one response from a company. Which user IDs are company user IDs can be calculated using the inbound field.\n",
        "\n",
        "tweet_id: A unique, anonymized ID for the Tweet. Referenced by response_tweet_id and in_response_to_tweet_id.\n",
        "\n",
        "author_id:\n",
        "A unique, anonymized user ID. @s in the dataset have been replaced with their associated anonymized user ID.\n",
        "\n",
        "inbound:\n",
        "Whether the tweet is \"inbound\" to a company doing customer support on Twitter. This feature is useful when re-organizing data for training conversational models.\n",
        "\n",
        "created_at:\n",
        "Date and time when the tweet was sent.\n",
        "\n",
        "text:\n",
        "Tweet content. Sensitive information like phone numbers and email addresses are replaced with mask values like __email__.\n",
        "\n",
        "response_tweet_id:\n",
        "IDs of tweets that are responses to this tweet, comma-separated.\n",
        "\n",
        "in_response_to_tweet_id:\n",
        "ID of the tweet this tweet is in response to, if any.\n",
        "\n"
      ],
      "metadata": {
        "id": "xWjnyJzF1-KG"
      }
    },
    {
      "cell_type": "code",
      "source": [
        "complete_tweets_dataframe = pd.read_csv('/content/drive/MyDrive/twcs.csv') #import dataset from kaggle"
      ],
      "metadata": {
        "id": "Qs87SW_P36bk"
      },
      "execution_count": 3,
      "outputs": []
    },
    {
      "cell_type": "code",
      "source": [
        "len(df)-6505"
      ],
      "metadata": {
        "colab": {
          "base_uri": "https://localhost:8080/"
        },
        "id": "KPsV_vGY-KcX",
        "outputId": "5647ea5f-9733-47b7-82d8-256327071762"
      },
      "execution_count": 12,
      "outputs": [
        {
          "output_type": "execute_result",
          "data": {
            "text/plain": [
              "2805269"
            ]
          },
          "metadata": {},
          "execution_count": 12
        }
      ]
    },
    {
      "cell_type": "code",
      "source": [
        "#the tweets will be converted to a text file to create a knowledge graph\n",
        "#the knowledge graph library can only take files upto 1,000,000 characters\n",
        "#hence we're dropping rows from the table\n",
        "complete_tweets_dataframe.drop(complete_tweets_dataframe.tail(2805269).index, inplace = True)"
      ],
      "metadata": {
        "id": "7DBgLICI8Dj6"
      },
      "execution_count": 4,
      "outputs": []
    },
    {
      "cell_type": "code",
      "source": [
        "len(complete_tweets_dataframe) #this size will cause no problems during training"
      ],
      "metadata": {
        "colab": {
          "base_uri": "https://localhost:8080/"
        },
        "id": "MaNe5GuK9YMw",
        "outputId": "d8d3bc16-3fcd-4ab6-9ed7-ff569d2080a1"
      },
      "execution_count": 5,
      "outputs": [
        {
          "output_type": "execute_result",
          "data": {
            "text/plain": [
              "6505"
            ]
          },
          "metadata": {},
          "execution_count": 5
        }
      ]
    },
    {
      "cell_type": "markdown",
      "source": [
        "### Methodology"
      ],
      "metadata": {
        "id": "PSSvlEif2qkf"
      }
    },
    {
      "cell_type": "markdown",
      "source": [
        "Proposed Arch: the model is given the tweets but the architecture used here is the one mentioned in [the deck](https://docs.google.com/presentation/d/1ByRYqVdoMTBallftR0YQXJUkgZUXom17YBkiMkdFWHE/edit?usp=sharing) and shown [here](https://whimsical.com/team-novice-current-architecture-MuNsYH5WVJLZDwCjohaeew).\n",
        "\n",
        "We will show the performance of both models when all 6505 tweets are given for training"
      ],
      "metadata": {
        "id": "BRizf8HK2tFp"
      }
    },
    {
      "cell_type": "markdown",
      "source": [
        "# Take top 'n' rows from Tweets Table as Input"
      ],
      "metadata": {
        "id": "g_xxVAPm0nTJ"
      }
    },
    {
      "cell_type": "code",
      "source": [
        "def extract_top_rows(df, num_rows):\n",
        "    \"\"\"\n",
        "    Extract the specified number of rows from the top of a DataFrame.\n",
        "\n",
        "    Parameters:\n",
        "    df (pandas.DataFrame): The input DataFrame.\n",
        "    num_rows (int): The number of rows to extract.\n",
        "\n",
        "    Returns:\n",
        "    pandas.DataFrame: A new DataFrame containing the extracted rows.\n",
        "    \"\"\"\n",
        "    if not isinstance(df, pd.DataFrame):\n",
        "        raise TypeError(\"Input must be a pandas DataFrame\")\n",
        "\n",
        "    if not isinstance(num_rows, int) or num_rows <= 0:\n",
        "        raise ValueError(\"num_rows must be a positive integer\")\n",
        "\n",
        "    if num_rows > len(df):\n",
        "        print(f\"Warning: Requested {num_rows} rows, but DataFrame only has {len(df)} rows. Returning all rows.\")\n",
        "        return df.copy()\n",
        "\n",
        "    return df.head(num_rows).copy()\n",
        "\n"
      ],
      "metadata": {
        "id": "5ZG-Qgtc0tN5"
      },
      "execution_count": null,
      "outputs": []
    },
    {
      "cell_type": "markdown",
      "source": [
        "# Vector DB Preparation"
      ],
      "metadata": {
        "id": "wDObEHuX6_yt"
      }
    },
    {
      "cell_type": "markdown",
      "source": [
        "Proposed Arch: We will convert the given tweets data into organised tweet threads. Then we'll create a knowledge graph out of the threads data and generate a text representation of the knowledge graph. The summary of the knowledge graph with the most important, central nodes is also derived. This is used to create the Vector DB of the Proposed Arch."
      ],
      "metadata": {
        "id": "PmMDQJMs7Izq"
      }
    },
    {
      "cell_type": "markdown",
      "source": [
        "Converting Tweets dataframe into Twitter Threads"
      ],
      "metadata": {
        "id": "d5COTjSq5ha2"
      }
    },
    {
      "cell_type": "code",
      "source": [
        "import re\n",
        "import pandas as pd\n",
        "from google.colab import files\n",
        "\n",
        "def extract_company_name(text):\n",
        "    match = re.search(r'@(\\w+)', text)\n",
        "    return match.group(1) if match else None\n",
        "\n",
        "def convert_dataframe_to_collated_threads(df):\n",
        "    tweets = {}\n",
        "    company_threads = {}\n",
        "    unknown_company_threads = []\n",
        "    thread_counter = 1\n",
        "\n",
        "    for _, row in df.iterrows():\n",
        "        tweet_id = int(row['tweet_id'])\n",
        "        tweets[tweet_id] = {\n",
        "            'tweet_id': tweet_id,\n",
        "            'author_id': row['author_id'],\n",
        "            'text': row['text'],\n",
        "            'in_response_to_tweet_id': float(row['in_response_to_tweet_id']) if pd.notna(row['in_response_to_tweet_id']) else None,\n",
        "            'response_tweet_id': row['response_tweet_id']\n",
        "        }\n",
        "\n",
        "    root_tweets = [tweet for tweet in tweets.values() if tweet['in_response_to_tweet_id'] is None]\n",
        "\n",
        "    for root_tweet in root_tweets:\n",
        "        thread_output = f'\"thread_id\": {thread_counter}\\n'\n",
        "        company_name = extract_company_name(root_tweet['text'])\n",
        "        if company_name:\n",
        "            thread_output += f'\"company_name\": {company_name}\\n'\n",
        "\n",
        "        thread_tweets = []\n",
        "        current_tweet = root_tweet\n",
        "        while current_tweet:\n",
        "            thread_tweets.append(current_tweet)\n",
        "            response_ids = str(current_tweet['response_tweet_id']).split(',') if pd.notna(current_tweet['response_tweet_id']) else []\n",
        "            next_tweet = None\n",
        "            for response_id in response_ids:\n",
        "                if response_id.isdigit() and int(response_id) in tweets:\n",
        "                    next_tweet = tweets[int(response_id)]\n",
        "                    break\n",
        "            current_tweet = next_tweet\n",
        "\n",
        "        for tweet in thread_tweets:\n",
        "            tweet_text = f'\"author_id\": \"{tweet[\"author_id\"]}\"\\n\"text\": \"{tweet[\"text\"]}\"\\n'\n",
        "            thread_output += tweet_text\n",
        "\n",
        "        thread_output += \"\\n\\n\"\n",
        "\n",
        "        if company_name:\n",
        "            if company_name not in company_threads:\n",
        "                company_threads[company_name] = []\n",
        "            company_threads[company_name].append(thread_output)\n",
        "        else:\n",
        "            unknown_company_threads.append(thread_output)\n",
        "\n",
        "        thread_counter += 1\n",
        "\n",
        "    output = \"\"\n",
        "    for company, threads in company_threads.items():\n",
        "        company_section = f\"Company: {company}\\n\\n\" + \"\".join(threads)\n",
        "        output += company_section\n",
        "\n",
        "    if unknown_company_threads:\n",
        "        unknown_section = \"Unknown Companies\\n\\n\" + \"\".join(unknown_company_threads)\n",
        "        output += unknown_section\n",
        "\n",
        "    return output\n",
        "\n",
        "\n",
        "\n",
        "text_output = convert_dataframe_to_collated_threads(complete_tweets_dataframe)\n",
        "\n",
        "print(f\"Total characters: {len(text_output)}\")\n",
        "\n",
        "print(\"\\nFirst 100 characters of the text output:\")\n",
        "print(text_output[:100])\n",
        "\n",
        "# Save the output to a file and initiate download\n",
        "output_file_name = 'collated_threads.txt'\n",
        "with open(output_file_name, 'w', encoding='utf-8') as f:\n",
        "    f.write(text_output)\n",
        "\n",
        "files.download(output_file_name)\n",
        "\n",
        "print(f\"\\nText has been saved as {output_file_name} and download initiated.\")\n",
        "\n",
        "# Path to the file in Colab\n",
        "colab_file_path = f\"/content/{output_file_name}\"\n",
        "print(f\"\\nThe file is now available in your Colab environment at: {colab_file_path}\")\n",
        "print(\"You can use this path to read the file in subsequent cells.\")"
      ],
      "metadata": {
        "colab": {
          "base_uri": "https://localhost:8080/",
          "height": 267
        },
        "collapsed": true,
        "id": "-vGlbRsG4-Ud",
        "outputId": "7dc26e4a-72e5-478b-d442-b35eb1dae781"
      },
      "execution_count": 6,
      "outputs": [
        {
          "output_type": "stream",
          "name": "stdout",
          "text": [
            "Total characters: 913804\n",
            "\n",
            "First 100 characters of the text output:\n",
            "Company: sprintcare\n",
            "\n",
            "\"thread_id\": 1\n",
            "\"company_name\": sprintcare\n",
            "\"author_id\": \"115712\"\n",
            "\"text\": \"@sprin\n"
          ]
        },
        {
          "output_type": "display_data",
          "data": {
            "text/plain": [
              "<IPython.core.display.Javascript object>"
            ],
            "application/javascript": [
              "\n",
              "    async function download(id, filename, size) {\n",
              "      if (!google.colab.kernel.accessAllowed) {\n",
              "        return;\n",
              "      }\n",
              "      const div = document.createElement('div');\n",
              "      const label = document.createElement('label');\n",
              "      label.textContent = `Downloading \"${filename}\": `;\n",
              "      div.appendChild(label);\n",
              "      const progress = document.createElement('progress');\n",
              "      progress.max = size;\n",
              "      div.appendChild(progress);\n",
              "      document.body.appendChild(div);\n",
              "\n",
              "      const buffers = [];\n",
              "      let downloaded = 0;\n",
              "\n",
              "      const channel = await google.colab.kernel.comms.open(id);\n",
              "      // Send a message to notify the kernel that we're ready.\n",
              "      channel.send({})\n",
              "\n",
              "      for await (const message of channel.messages) {\n",
              "        // Send a message to notify the kernel that we're ready.\n",
              "        channel.send({})\n",
              "        if (message.buffers) {\n",
              "          for (const buffer of message.buffers) {\n",
              "            buffers.push(buffer);\n",
              "            downloaded += buffer.byteLength;\n",
              "            progress.value = downloaded;\n",
              "          }\n",
              "        }\n",
              "      }\n",
              "      const blob = new Blob(buffers, {type: 'application/binary'});\n",
              "      const a = document.createElement('a');\n",
              "      a.href = window.URL.createObjectURL(blob);\n",
              "      a.download = filename;\n",
              "      div.appendChild(a);\n",
              "      a.click();\n",
              "      div.remove();\n",
              "    }\n",
              "  "
            ]
          },
          "metadata": {}
        },
        {
          "output_type": "display_data",
          "data": {
            "text/plain": [
              "<IPython.core.display.Javascript object>"
            ],
            "application/javascript": [
              "download(\"download_5c704fb9-6c4c-4552-bf3b-c34cca9ce5df\", \"collated_threads.txt\", 924523)"
            ]
          },
          "metadata": {}
        },
        {
          "output_type": "stream",
          "name": "stdout",
          "text": [
            "\n",
            "Text has been saved as collated_threads.txt and download initiated.\n",
            "\n",
            "The file is now available in your Colab environment at: /content/collated_threads.txt\n",
            "You can use this path to read the file in subsequent cells.\n"
          ]
        }
      ]
    },
    {
      "cell_type": "markdown",
      "source": [
        "# Creating Knowledge Graph"
      ],
      "metadata": {
        "id": "k24Z7pHDwpPL"
      }
    },
    {
      "cell_type": "markdown",
      "source": [
        "The knowledge graph is created using the twitter thread dataset in text form. The SpaCy library is used for NLP on the text and then valid nodes are filtered out to generate the Knowledge graph."
      ],
      "metadata": {
        "id": "cNgn8CAH4nlZ"
      }
    },
    {
      "cell_type": "code",
      "source": [
        "import spacy\n",
        "import networkx as nx\n",
        "import plotly.graph_objects as go\n",
        "import re\n",
        "\n",
        "nlp = spacy.load(\"en_core_web_sm\")\n",
        "\n",
        "def preprocess_text(text):\n",
        "    text = re.sub(r'[^\\w\\s@#]', '', text)\n",
        "    return text.lower().strip()\n",
        "\n",
        "def is_valid_entity(text):\n",
        "    if not text or text.isspace():\n",
        "        return False\n",
        "    filler_words = {'a', 'an', 'and', 'are', 'as', 'at', 'be', 'by', 'for', 'from', 'has', 'he', 'in', 'is', 'it',\n",
        "                    'its', 'of', 'on', 'that', 'the', 'to', 'was', 'were', 'will', 'with', 'i', 'you', 'your', 'we',\n",
        "                    'they', 'them', 'my', 'but', 'have', 'has', 'had', 'do', 'does', 'did', 'can', 'could', 'would',\n",
        "                    'should', 'this', 'these', 'those', 'there', 'here', 'where', 'when', 'why', 'how', 'what', 'who'}\n",
        "    if text in filler_words or text.isdigit():\n",
        "        return False\n",
        "    return True\n",
        "\n",
        "def is_customer_support_term(term):\n",
        "    support_terms = {'help', 'support', 'assist', 'resolve', 'issue', 'problem', 'question', 'concern', 'complaint',\n",
        "                     'service', 'account', 'bill', 'payment', 'refund', 'cancel', 'upgrade', 'downgrade', 'technical',\n",
        "                     'error', 'bug', 'outage', 'down', 'slow', 'fast', 'connection', 'speed', 'customer', 'representative'}\n",
        "    return term in support_terms\n",
        "\n",
        "def create_knowledge_graph(text):\n",
        "    tweets = re.split(r'\"thread_id\":', text)[1:]\n",
        "    G = nx.Graph()\n",
        "\n",
        "    for tweet in tweets:\n",
        "        company_match = re.search(r'\"company_name\": (\\w+)', tweet)\n",
        "        text_match = re.search(r'\"text\": \"([^\"]+)\"', tweet)\n",
        "\n",
        "        if company_match and text_match:\n",
        "            company = company_match.group(1)\n",
        "            tweet_text = text_match.group(1)\n",
        "\n",
        "            if is_valid_entity(company):\n",
        "                G.add_node(company, type='company')\n",
        "\n",
        "            doc = nlp(tweet_text)\n",
        "\n",
        "            for token in doc:\n",
        "                if is_valid_entity(token.text) and (is_customer_support_term(token.lemma_) or token.ent_type_):\n",
        "                    clean_text = preprocess_text(token.text)\n",
        "                    if is_valid_entity(clean_text):\n",
        "                        G.add_node(clean_text, type='term')\n",
        "                        if is_valid_entity(company):\n",
        "                            G.add_edge(company, clean_text)\n",
        "\n",
        "            hashtags = re.findall(r'#(\\w+)', tweet_text)\n",
        "            for hashtag in hashtags:\n",
        "                if is_valid_entity(hashtag):\n",
        "                    G.add_node(hashtag, type='hashtag')\n",
        "                    if is_valid_entity(company):\n",
        "                        G.add_edge(company, hashtag)\n",
        "\n",
        "    return G\n",
        "\n",
        "def improve_graph(G, top_n=100):\n",
        "    degree_dict = dict(G.degree())\n",
        "    sorted_nodes = sorted(degree_dict, key=degree_dict.get, reverse=True)\n",
        "    top_nodes = sorted_nodes[:top_n]\n",
        "    G_filtered = G.subgraph(top_nodes)\n",
        "    centrality = nx.betweenness_centrality(G_filtered)\n",
        "    return G_filtered, centrality\n",
        "\n",
        "def visualize_improved_graph(G, centrality):\n",
        "    pos = nx.spring_layout(G, k=0.5, iterations=50)\n",
        "\n",
        "    edge_x, edge_y = [], []\n",
        "    for edge in G.edges():\n",
        "        x0, y0 = pos[edge[0]]\n",
        "        x1, y1 = pos[edge[1]]\n",
        "        edge_x.extend([x0, x1, None])\n",
        "        edge_y.extend([y0, y1, None])\n",
        "\n",
        "    edge_trace = go.Scatter(x=edge_x, y=edge_y, line=dict(width=0.5, color='#888'), hoverinfo='none', mode='lines')\n",
        "\n",
        "    node_x, node_y = [], []\n",
        "    for node in G.nodes():\n",
        "        x, y = pos[node]\n",
        "        node_x.append(x)\n",
        "        node_y.append(y)\n",
        "\n",
        "    node_trace = go.Scatter(\n",
        "        x=node_x, y=node_y,\n",
        "        mode='markers',\n",
        "        hoverinfo='text',\n",
        "        marker=dict(\n",
        "            showscale=True,\n",
        "            colorscale='Viridis',\n",
        "            size=10,\n",
        "            colorbar=dict(thickness=15, title='Node Centrality', xanchor='left', titleside='right')\n",
        "        )\n",
        "    )\n",
        "\n",
        "    node_centrality = list(centrality.values())\n",
        "    node_text = [f'{node}<br>Centrality: {centrality[node]:.4f}' for node in G.nodes()]\n",
        "\n",
        "    node_trace.marker.color = node_centrality\n",
        "    node_trace.text = node_text\n",
        "\n",
        "    fig = go.Figure(data=[edge_trace, node_trace],\n",
        "                    layout=go.Layout(\n",
        "                        title='Customer Support Knowledge Graph',\n",
        "                        titlefont_size=16,\n",
        "                        showlegend=False,\n",
        "                        hovermode='closest',\n",
        "                        margin=dict(b=20,l=5,r=5,t=40),\n",
        "                        xaxis=dict(showgrid=False, zeroline=False, showticklabels=False),\n",
        "                        yaxis=dict(showgrid=False, zeroline=False, showticklabels=False))\n",
        "                    )\n",
        "\n",
        "    fig.show()\n",
        "\n",
        "# Usage\n",
        "with open('/content/collated_threads.txt', 'r', encoding='utf-8') as file:\n",
        "    collated_threads_text = file.read()\n",
        "\n",
        "G = create_knowledge_graph(collated_threads_text)\n",
        "\n",
        "if G.number_of_nodes() > 0:\n",
        "    print(\"\\nSample of nodes:\")\n",
        "    for node in list(G.nodes())[:20]:\n",
        "        print(node)\n",
        "\n",
        "    G_filtered, centrality = improve_graph(G)\n",
        "    visualize_improved_graph(G_filtered, centrality)\n",
        "else:\n",
        "    print(\"No nodes were created in the graph.\")"
      ],
      "metadata": {
        "colab": {
          "base_uri": "https://localhost:8080/",
          "height": 971
        },
        "id": "OikiQmuz3h94",
        "outputId": "57697feb-3684-4b03-864f-204d6724943c"
      },
      "execution_count": 19,
      "outputs": [
        {
          "output_type": "stream",
          "name": "stdout",
          "text": [
            "Number of nodes in the graph: 1619\n",
            "Number of edges in the graph: 1627\n",
            "\n",
            "Sample of nodes:\n",
            "sprintcare\n",
            "customer\n",
            "service\n",
            "slow\n",
            "help\n",
            "@115714\n",
            "upgrading\n",
            "outage\n",
            "minneapolis\n",
            "st\n",
            "paul\n",
            "minnesota\n",
            "connection\n",
            "lte\n",
            "support\n",
            "account\n",
            "years\n",
            "spring\n",
            "corporate\n",
            "two\n"
          ]
        },
        {
          "output_type": "display_data",
          "data": {
            "text/html": [
              "<html>\n",
              "<head><meta charset=\"utf-8\" /></head>\n",
              "<body>\n",
              "    <div>            <script src=\"https://cdnjs.cloudflare.com/ajax/libs/mathjax/2.7.5/MathJax.js?config=TeX-AMS-MML_SVG\"></script><script type=\"text/javascript\">if (window.MathJax && window.MathJax.Hub && window.MathJax.Hub.Config) {window.MathJax.Hub.Config({SVG: {font: \"STIX-Web\"}});}</script>                <script type=\"text/javascript\">window.PlotlyConfig = {MathJaxConfig: 'local'};</script>\n",
              "        <script charset=\"utf-8\" src=\"https://cdn.plot.ly/plotly-2.24.1.min.js\"></script>                <div id=\"77813463-80f6-4b01-b7a8-3c269376a396\" class=\"plotly-graph-div\" style=\"height:525px; width:100%;\"></div>            <script type=\"text/javascript\">                                    window.PLOTLYENV=window.PLOTLYENV || {};                                    if (document.getElementById(\"77813463-80f6-4b01-b7a8-3c269376a396\")) {                    Plotly.newPlot(                        \"77813463-80f6-4b01-b7a8-3c269376a396\",                        [{\"hoverinfo\":\"none\",\"line\":{\"color\":\"#888\",\"width\":0.5},\"mode\":\"lines\",\"x\":[-0.6546906350092373,-0.01318175386127429,null,-0.6546906350092373,-0.2901799756389168,null,-0.06858016197906085,0.061080251019000054,null,-0.06858016197906085,-0.07984588615739874,null,-0.06858016197906085,-0.17419266550126997,null,-0.06858016197906085,0.20415674325626065,null,-0.06858016197906085,-0.028757155662039062,null,-0.06858016197906085,-0.17658796877384017,null,-0.06858016197906085,-0.12459848723320396,null,-0.06858016197906085,-0.18552776137651877,null,-0.06858016197906085,0.3335406691275294,null,-0.06858016197906085,0.3974713240318663,null,-0.06858016197906085,-0.5106415181825261,null,-0.06858016197906085,-0.41456713584307703,null,-0.06858016197906085,-0.35939312367912224,null,-0.06858016197906085,0.1788397972144292,null,-0.06858016197906085,-0.12684056843381103,null,-0.06858016197906085,-0.13932628823612028,null,-0.06858016197906085,0.08671173060396907,null,-0.06858016197906085,-0.30981226321002947,null,-0.06858016197906085,-0.034120430625146775,null,-0.06858016197906085,-0.30835821152026915,null,-0.06858016197906085,0.21351227936485034,null,-0.06858016197906085,-0.30420786788500437,null,-0.06858016197906085,0.25191069688357615,null,-0.06858016197906085,0.16428337488264017,null,-0.06871111493737744,-0.14647421421287457,null,-0.06871111493737744,-0.3349421689838807,null,-0.06871111493737744,-0.11032514748861573,null,-0.06871111493737744,-0.11200546961235827,null,-0.06871111493737744,0.012969260672868134,null,-0.06871111493737744,0.018695130531189208,null,-0.06871111493737744,0.2210774132463957,null,-0.06871111493737744,-0.04859605138042569,null,-0.06871111493737744,-0.24375304286468433,null,-0.06871111493737744,-0.023307723272976266,null,-0.06871111493737744,0.12392634943750742,null,-0.06871111493737744,0.09323866422204045,null,0.25191069688357615,0.0647436457735381,null,0.25191069688357615,0.21953848931355527,null,0.25191069688357615,-0.11032514748861573,null,0.25191069688357615,-0.11200546961235827,null,0.25191069688357615,-0.004530637101628782,null,0.25191069688357615,0.012969260672868134,null,0.25191069688357615,0.018695130531189208,null,0.25191069688357615,0.711522923880592,null,0.25191069688357615,-0.04859605138042569,null,0.25191069688357615,0.47853920297355174,null,0.25191069688357615,0.6641128372901809,null,0.25191069688357615,-0.04401622896875074,null,0.25191069688357615,0.4615522771522725,null,-0.06874779098933372,-0.027862359539043584,null,-0.06874779098933372,0.10761458315326719,null,-0.06874779098933372,-0.1224051041204789,null,-0.06874779098933372,0.21351227936485034,null,-0.06874779098933372,-0.3332854856009484,null,-0.06874779098933372,-0.028757155662039062,null,-0.06874779098933372,0.08180956219572484,null,-0.06874779098933372,-0.17658796877384017,null,-0.06874779098933372,-0.17655828171085955,null,-0.06874779098933372,-0.35939312367912224,null,-0.06874779098933372,-0.12684056843381103,null,-0.06874779098933372,-0.13932628823612028,null,-0.06874779098933372,0.16428337488264017,null,-0.06874779098933372,0.05856262155814915,null,-0.06874779098933372,-0.07984588615739874,null,-0.24375304286468433,-0.01985051893032523,null,-0.24375304286468433,-0.3689375912752355,null,-0.24375304286468433,0.20415674325626065,null,-0.24375304286468433,-0.1224051041204789,null,-0.24375304286468433,-0.5106415181825261,null,-0.24375304286468433,-0.12684056843381103,null,-0.24375304286468433,-0.07984588615739874,null,-0.24375304286468433,-0.30981226321002947,null,-0.24375304286468433,-0.028757155662039062,null,-0.24375304286468433,0.08671173060396907,null,-0.3097767080308606,-0.07984588615739874,null,-0.3097767080308606,-0.17658796877384017,null,-0.3097767080308606,-0.028757155662039062,null,-0.3097767080308606,0.05748459203197059,null,-0.3097767080308606,-0.2901799756389168,null,-0.3097767080308606,-0.3689375912752355,null,0.3974713240318663,0.11109439794081989,null,0.3974713240318663,0.20415674325626065,null,0.3974713240318663,0.3974713240318663,null,0.3974713240318663,-0.028757155662039062,null,-0.12684056843381103,0.0647436457735381,null,-0.12684056843381103,-0.004530637101628782,null,-0.12684056843381103,-0.04859605138042569,null,-0.12684056843381103,0.09323866422204045,null,0.05856262155814915,0.0647436457735381,null,0.05856262155814915,-0.3349421689838807,null,0.05856262155814915,0.04843318529872546,null,0.05856262155814915,0.018695130531189208,null,0.05856262155814915,0.35894220276171285,null,0.05856262155814915,0.12392634943750742,null,-0.3332854856009484,-0.3349421689838807,null,-0.3332854856009484,-0.08439899966394968,null,-0.3332854856009484,-0.004530637101628782,null,-0.3332854856009484,0.012969260672868134,null,-0.3332854856009484,-0.2690474083272878,null,-0.3332854856009484,0.09323866422204045,null,-0.3332854856009484,-0.294305154450202,null,-0.3349421689838807,-0.2901799756389168,null,-0.3349421689838807,-0.17419266550126997,null,-0.3349421689838807,-0.07984588615739874,null,-0.3349421689838807,-0.30981226321002947,null,-0.3349421689838807,-0.5106415181825261,null,-0.3349421689838807,-0.1224051041204789,null,-0.3349421689838807,-0.028757155662039062,null,-0.2727605190443643,-0.17655828171085955,null,-0.2901799756389168,-0.14647421421287457,null,-0.2901799756389168,-0.5248056475432881,null,-0.2901799756389168,-0.11200546961235827,null,-0.2901799756389168,-0.08439899966394968,null,-0.2901799756389168,-0.004530637101628782,null,-0.2901799756389168,-0.1949442759882929,null,-0.2901799756389168,0.012969260672868134,null,-0.2901799756389168,-0.04859605138042569,null,-0.2901799756389168,-0.2690474083272878,null,-0.2901799756389168,-0.5180693345540205,null,-0.2901799756389168,-0.04401622896875074,null,-0.2901799756389168,-0.7169557177706403,null,-0.2901799756389168,0.12392634943750742,null,-0.2901799756389168,0.09323866422204045,null,-0.2901799756389168,-0.3134266688912252,null,-0.2901799756389168,-0.294305154450202,null,-0.0799945769985523,-0.08439899966394968,null,-0.0799945769985523,-0.1949442759882929,null,-0.0799945769985523,0.20613320701405707,null,-0.0799945769985523,-0.18219933783772546,null,-0.0799945769985523,0.12392634943750742,null,-0.13932628823612028,-0.11200546961235827,null,-0.13932628823612028,-0.08439899966394968,null,-0.13932628823612028,0.012969260672868134,null,-0.13932628823612028,-0.04859605138042569,null,-0.13932628823612028,0.04871499114834131,null,-0.13932628823612028,-0.18219933783772546,null,0.35894220276171285,0.2732673116168588,null,0.35894220276171285,0.061080251019000054,null,0.35894220276171285,0.11109439794081989,null,0.4787078713920553,0.0647436457735381,null,0.4787078713920553,0.3106865244799722,null,0.4787078713920553,0.012969260672868134,null,0.4787078713920553,0.5080275413674035,null,0.4787078713920553,0.09323866422204045,null,0.05748459203197059,0.29033425626013687,null,0.05748459203197059,-0.1278438718029388,null,0.05748459203197059,-0.08439899966394968,null,0.05748459203197059,-0.1949442759882929,null,0.05748459203197059,0.5080275413674035,null,0.05748459203197059,-0.023307723272976266,null,0.08671173060396907,-0.1278438718029388,null,0.08671173060396907,0.0647436457735381,null,0.08671173060396907,-0.11200546961235827,null,0.08671173060396907,-0.08439899966394968,null,0.08671173060396907,-0.1949442759882929,null,0.08671173060396907,0.012969260672868134,null,0.08671173060396907,0.018695130531189208,null,0.08671173060396907,-0.04859605138042569,null,0.08671173060396907,0.04871499114834131,null,0.08671173060396907,-0.18219933783772546,null,0.08671173060396907,0.12392634943750742,null,0.08671173060396907,0.4804049071958219,null,0.5080275413674035,0.4176757210654366,null,0.5080275413674035,0.11109439794081989,null,0.6641128372901809,0.20415674325626065,null,0.018695130531189208,0.5762385504800616,null,0.018695130531189208,-0.034120430625146775,null,0.018695130531189208,-0.01318175386127429,null,0.018695130531189208,-0.35939312367912224,null,0.018695130531189208,-0.17419266550126997,null,0.018695130531189208,0.20415674325626065,null,0.018695130531189208,0.2732673116168588,null,0.018695130531189208,0.10761458315326719,null,0.018695130531189208,-0.41456713584307703,null,0.018695130531189208,-0.17658796877384017,null,0.018695130531189208,-0.028757155662039062,null,0.018695130531189208,0.22425918996125543,null,0.018695130531189208,-0.18552776137651877,null,0.018695130531189208,0.16428337488264017,null,0.018695130531189208,-0.3689375912752355,null,0.018695130531189208,-0.30981226321002947,null,0.018695130531189208,0.11109439794081989,null,0.018695130531189208,0.3335406691275294,null,0.018695130531189208,-0.07984588615739874,null,-0.1278438718029388,-0.17658796877384017,null,-0.1278438718029388,-0.028757155662039062,null,-0.1278438718029388,-0.07984588615739874,null,-0.1278438718029388,-0.18552776137651877,null,-0.1278438718029388,-0.01985051893032523,null,-0.1278438718029388,0.16428337488264017,null,-0.1278438718029388,-0.27273377571034024,null,-0.1278438718029388,0.21351227936485034,null,-0.1278438718029388,-0.1224051041204789,null,-0.1278438718029388,-0.30420786788500437,null,-0.1278438718029388,-0.30835821152026915,null,0.20613320701405707,-0.01318175386127429,null,0.20613320701405707,-0.07984588615739874,null,0.20613320701405707,0.30786533776589614,null,0.20613320701405707,-0.028757155662039062,null,-0.33147768151982276,0.04843318529872546,null,-0.33147768151982276,-0.18552776137651877,null,-0.33147768151982276,0.061080251019000054,null,-0.11200546961235827,0.22425918996125543,null,-0.11200546961235827,-0.12459848723320396,null,-0.11200546961235827,0.10761458315326719,null,-0.11200546961235827,0.11109439794081989,null,-0.11200546961235827,-0.17658796877384017,null,-0.11200546961235827,-0.028757155662039062,null,-0.11200546961235827,0.1788397972144292,null,-0.11200546961235827,-0.17655828171085955,null,-0.11200546961235827,-0.17419266550126997,null,-0.11200546961235827,-0.30981226321002947,null,-0.11200546961235827,-0.07984588615739874,null,-0.11200546961235827,-0.3689375912752355,null,-0.11200546961235827,0.061080251019000054,null,-0.11200546961235827,0.20415674325626065,null,-0.11200546961235827,-0.1224051041204789,null,-0.11200546961235827,-0.5106415181825261,null,0.30786533776589614,0.0647436457735381,null,0.30786533776589614,-0.14647421421287457,null,0.30786533776589614,0.21953848931355527,null,0.30786533776589614,-0.08439899966394968,null,0.30786533776589614,-0.004530637101628782,null,-0.6946591961848644,-0.07984588615739874,null,-0.35939312367912224,-0.08439899966394968,null,-0.35939312367912224,-0.004530637101628782,null,-0.35939312367912224,0.012969260672868134,null,-0.35939312367912224,-0.2690474083272878,null,-0.35939312367912224,-0.5180693345540205,null,0.16428337488264017,-0.004530637101628782,null,0.16428337488264017,0.04843318529872546,null,0.16428337488264017,-0.04859605138042569,null,0.16428337488264017,0.04871499114834131,null,0.16428337488264017,0.12392634943750742,null,0.16428337488264017,0.09323866422204045,null,0.47853920297355174,-0.01985051893032523,null,0.47853920297355174,0.2732673116168588,null,0.0751663347866941,-0.17419266550126997,null,0.0751663347866941,-0.07984588615739874,null,0.012969260672868134,0.061080251019000054,null,0.012969260672868134,-0.17419266550126997,null,0.012969260672868134,-0.07984588615739874,null,0.012969260672868134,-0.17658796877384017,null,0.012969260672868134,-0.18552776137651877,null,0.012969260672868134,-0.028757155662039062,null,0.012969260672868134,0.5762385504800616,null,0.012969260672868134,0.11109439794081989,null,0.012969260672868134,0.20415674325626065,null,0.012969260672868134,-0.41456713584307703,null,0.012969260672868134,-0.27273377571034024,null,0.012969260672868134,0.10761458315326719,null,0.012969260672868134,0.2732673116168588,null,0.012969260672868134,0.08180956219572484,null,0.012969260672868134,-0.12459848723320396,null,0.012969260672868134,-0.30420786788500437,null,0.012969260672868134,0.22425918996125543,null,0.012969260672868134,-0.01318175386127429,null,0.012969260672868134,0.3335406691275294,null,-0.18219933783772546,-0.3689375912752355,null,-0.18219933783772546,0.11109439794081989,null,-0.18219933783772546,-0.17658796877384017,null,-0.18219933783772546,-0.028757155662039062,null,-0.18219933783772546,-0.41456713584307703,null,-0.18219933783772546,-0.18552776137651877,null,-0.18219933783772546,-0.30835821152026915,null,-0.18219933783772546,-0.1224051041204789,null,-0.18219933783772546,0.20415674325626065,null,-0.18219933783772546,0.061080251019000054,null,-0.07984588615739874,0.29033425626013687,null,-0.07984588615739874,0.0647436457735381,null,-0.07984588615739874,-0.14647421421287457,null,-0.07984588615739874,0.21953848931355527,null,-0.07984588615739874,0.3106865244799722,null,-0.07984588615739874,-0.08439899966394968,null,-0.07984588615739874,-0.004530637101628782,null,-0.07984588615739874,-0.1949442759882929,null,-0.07984588615739874,0.2210774132463957,null,-0.07984588615739874,0.04871499114834131,null,-0.07984588615739874,-0.2690474083272878,null,-0.07984588615739874,-0.5180693345540205,null,-0.07984588615739874,-0.7169557177706403,null,-0.07984588615739874,-0.023307723272976266,null,-0.07984588615739874,0.16018098500388,null,-0.07984588615739874,0.12392634943750742,null,-0.07984588615739874,0.09323866422204045,null,-0.07984588615739874,-0.294305154450202,null,-0.07984588615739874,0.5560869461532886,null,0.04843318529872546,-0.17658796877384017,null,0.04843318529872546,-0.028757155662039062,null,0.04843318529872546,-0.1224051041204789,null,0.04843318529872546,0.20415674325626065,null,0.04843318529872546,0.061080251019000054,null,0.04843318529872546,0.4176757210654366,null,0.04843318529872546,-0.12459848723320396,null,0.04843318529872546,-0.034120430625146775,null,0.04843318529872546,0.22425918996125543,null,-0.1224051041204789,0.0647436457735381,null,-0.1224051041204789,-0.14647421421287457,null,-0.1224051041204789,0.3106865244799722,null,-0.1224051041204789,-0.08439899966394968,null,-0.1224051041204789,-0.004530637101628782,null,-0.1224051041204789,-0.04859605138042569,null,-0.1224051041204789,-0.3134266688912252,null,-0.3689375912752355,-0.14647421421287457,null,-0.3689375912752355,-0.5248056475432881,null,-0.3689375912752355,-0.004530637101628782,null,-0.3689375912752355,-0.1949442759882929,null,-0.3689375912752355,-0.04859605138042569,null,-0.3689375912752355,-0.2690474083272878,null,-0.3689375912752355,-0.5180693345540205,null,0.1788397972144292,-0.14647421421287457,null,0.1788397972144292,0.5931234456768274,null,0.1788397972144292,-0.004530637101628782,null,0.1788397972144292,0.2210774132463957,null,0.1788397972144292,0.16018098500388,null,0.1788397972144292,-0.294305154450202,null,-0.30835821152026915,0.0647436457735381,null,-0.30835821152026915,0.21953848931355527,null,-0.30835821152026915,-0.5248056475432881,null,-0.30835821152026915,-0.004530637101628782,null,-0.30835821152026915,-0.04859605138042569,null,-0.01318175386127429,-0.14647421421287457,null,-0.01318175386127429,0.3106865244799722,null,-0.01318175386127429,-0.1949442759882929,null,-0.01318175386127429,-0.04859605138042569,null,-0.01318175386127429,0.04871499114834131,null,-0.01318175386127429,0.32398304844490944,null,0.3335406691275294,-0.004530637101628782,null,0.3335406691275294,0.2210774132463957,null,0.3335406691275294,-0.04859605138042569,null,-0.2690474083272878,-0.30420786788500437,null,-0.2690474083272878,-0.17658796877384017,null,-0.2690474083272878,-0.028757155662039062,null,-0.2690474083272878,0.10761458315326719,null,-0.2690474083272878,-0.18552776137651877,null,-0.2690474083272878,0.11109439794081989,null,-0.30981226321002947,-0.004530637101628782,null,-0.04859605138042569,0.2732673116168588,null,-0.04859605138042569,0.11109439794081989,null,-0.04859605138042569,-0.12459848723320396,null,-0.04859605138042569,0.20415674325626065,null,-0.04859605138042569,-0.01985051893032523,null,-0.04859605138042569,-0.18552776137651877,null,-0.04859605138042569,-0.41456713584307703,null,-0.04859605138042569,-0.034120430625146775,null,-0.04859605138042569,-0.30420786788500437,null,-0.294305154450202,-0.01985051893032523,null,-0.028757155662039062,0.29033425626013687,null,-0.028757155662039062,0.0647436457735381,null,-0.028757155662039062,0.21953848931355527,null,-0.028757155662039062,-0.5248056475432881,null,-0.028757155662039062,-0.004530637101628782,null,-0.028757155662039062,-0.1949442759882929,null,-0.028757155662039062,0.04871499114834131,null,-0.028757155662039062,-0.023307723272976266,null,-0.028757155662039062,0.4615522771522725,null,0.10761458315326719,0.21953848931355527,null,0.10761458315326719,-0.08439899966394968,null,0.10761458315326719,0.04871499114834131,null,0.11109439794081989,0.0647436457735381,null,0.11109439794081989,-0.14647421421287457,null,0.11109439794081989,-0.08439899966394968,null,0.11109439794081989,-0.004530637101628782,null,0.11109439794081989,-0.023307723272976266,null,0.11109439794081989,0.09323866422204045,null,-0.023307723272976266,-0.034120430625146775,null,-0.023307723272976266,-0.12459848723320396,null,-0.004530637101628782,-0.17655828171085955,null,-0.004530637101628782,-0.034120430625146775,null,-0.004530637101628782,-0.027862359539043584,null,-0.004530637101628782,0.08180956219572484,null,-0.004530637101628782,-0.17658796877384017,null,-0.004530637101628782,0.2732673116168588,null,-0.004530637101628782,0.4176757210654366,null,0.2210774132463957,-0.18552776137651877,null,0.2210774132463957,0.2732673116168588,null,0.2210774132463957,0.061080251019000054,null,0.2210774132463957,0.21351227936485034,null,0.2210774132463957,0.5762385504800616,null,0.2210774132463957,0.4176757210654366,null,0.2210774132463957,-0.30420786788500437,null,0.0647436457735381,0.20415674325626065,null,0.0647436457735381,0.2732673116168588,null,0.0647436457735381,-0.034120430625146775,null,0.0647436457735381,-0.17419266550126997,null,0.0647436457735381,0.061080251019000054,null,0.0647436457735381,-0.12459848723320396,null,0.0647436457735381,-0.027862359539043584,null,0.0647436457735381,-0.27273377571034024,null,0.22425918996125543,0.04871499114834131,null,-0.3134266688912252,-0.027862359539043584,null,-0.17655828171085955,-0.08439899966394968,null,-0.17655828171085955,-0.1949442759882929,null,-0.17655828171085955,0.04871499114834131,null,0.32398304844490944,0.061080251019000054,null,0.32398304844490944,0.20415674325626065,null,-0.27273377571034024,-0.08439899966394968,null,-0.27273377571034024,0.04871499114834131,null,-0.30420786788500437,-0.11032514748861573,null,0.4804049071958219,0.20415674325626065,null,0.5931234456768274,0.20415674325626065,null,0.5762385504800616,1.0,null,-0.1949442759882929,0.061080251019000054,null,-0.1949442759882929,-0.027862359539043584,null,0.09323866422204045,0.061080251019000054,null,0.4615522771522725,0.20415674325626065,null,-0.01985051893032523,-0.14647421421287457,null,0.08180956219572484,-0.08439899966394968,null,0.08180956219572484,0.04871499114834131,null,0.061080251019000054,-0.07658331571988329,null,-0.17658796877384017,0.29033425626013687,null,-0.17658796877384017,-0.5248056475432881,null,-0.07658331571988329,-0.18552776137651877,null,-0.08439899966394968,0.20415674325626065,null,-0.08439899966394968,-0.18552776137651877,null,0.12392634943750742,0.20415674325626065,null,0.12392634943750742,0.4176757210654366,null,0.711522923880592,0.20415674325626065,null,-0.5180693345540205,-0.17419266550126997,null,0.04871499114834131,-0.12459848723320396,null,0.04871499114834131,0.20415674325626065,null,0.04871499114834131,0.21351227936485034,null,-0.4405552649403481,0.20415674325626065,null,0.21953848931355527,0.20415674325626065,null,0.21953848931355527,-0.027862359539043584,null,-0.027862359539043584,-0.14647421421287457,null,-0.12459848723320396,-0.14647421421287457,null,0.20415674325626065,-0.11032514748861573,null,0.20415674325626065,0.5560869461532886,null,-0.14647421421287457,-0.5106415181825261,null],\"y\":[0.010949568509356935,0.1617090422358554,null,0.010949568509356935,-0.03813224258925324,null,0.010565393326252283,0.24499629397250539,null,0.010565393326252283,-0.029801183584776285,null,0.010565393326252283,-0.3679621126465634,null,0.010565393326252283,-0.019836964795193732,null,0.010565393326252283,-0.1525417909396542,null,0.010565393326252283,-0.16099005254570034,null,0.010565393326252283,-0.20683200791586767,null,0.010565393326252283,0.24443460278385945,null,0.010565393326252283,-0.03355361031321013,null,0.010565393326252283,0.029932667155894075,null,0.010565393326252283,0.05738401308241447,null,0.010565393326252283,-0.017891261716670416,null,0.010565393326252283,-0.08107862693845971,null,0.010565393326252283,0.2545212263042173,null,0.010565393326252283,0.34431038265846003,null,0.010565393326252283,0.285700083758478,null,0.010565393326252283,0.10826880413884048,null,0.010565393326252283,-0.2684986958941603,null,0.010565393326252283,-0.3145556763044115,null,0.010565393326252283,0.07508378226577012,null,0.010565393326252283,0.34708502424948007,null,0.010565393326252283,-0.06738567964579113,null,0.010565393326252283,-0.10676155333806232,null,0.010565393326252283,0.0866627696161112,null,-0.21623413010600587,0.09298356018026557,null,-0.21623413010600587,-0.2019790717947602,null,-0.21623413010600587,-0.4496111041042629,null,-0.21623413010600587,-0.04300014655045063,null,-0.21623413010600587,-0.015425676670620659,null,-0.21623413010600587,-0.14418358231852169,null,-0.21623413010600587,0.03493394165897469,null,-0.21623413010600587,0.04186086078200178,null,-0.21623413010600587,0.09867524173461976,null,-0.21623413010600587,-0.49046922214465916,null,-0.21623413010600587,-0.26664326521285203,null,-0.21623413010600587,0.15159541807879942,null,-0.10676155333806232,-0.0047313832438697885,null,-0.10676155333806232,0.11859775091849849,null,-0.10676155333806232,-0.4496111041042629,null,-0.10676155333806232,-0.04300014655045063,null,-0.10676155333806232,0.0314760334873968,null,-0.10676155333806232,-0.015425676670620659,null,-0.10676155333806232,-0.14418358231852169,null,-0.10676155333806232,0.1482964818564254,null,-0.10676155333806232,0.04186086078200178,null,-0.10676155333806232,0.2867872825750589,null,-0.10676155333806232,0.2308682973145265,null,-0.10676155333806232,-0.6038232685444063,null,-0.10676155333806232,-0.3882895313691459,null,0.1607817839820463,0.3740462082244107,null,0.1607817839820463,-0.0973146367405076,null,0.1607817839820463,0.2199890459941068,null,0.1607817839820463,0.34708502424948007,null,0.1607817839820463,0.16237135439767816,null,0.1607817839820463,-0.1525417909396542,null,0.1607817839820463,0.4130614078352823,null,0.1607817839820463,-0.16099005254570034,null,0.1607817839820463,0.4444279817634384,null,0.1607817839820463,-0.08107862693845971,null,0.1607817839820463,0.34431038265846003,null,0.1607817839820463,0.285700083758478,null,0.1607817839820463,0.0866627696161112,null,0.1607817839820463,-0.37297677965205844,null,0.1607817839820463,-0.029801183584776285,null,0.09867524173461976,0.45773840690547346,null,0.09867524173461976,-0.1475557815149975,null,0.09867524173461976,-0.019836964795193732,null,0.09867524173461976,0.2199890459941068,null,0.09867524173461976,0.05738401308241447,null,0.09867524173461976,0.34431038265846003,null,0.09867524173461976,-0.029801183584776285,null,0.09867524173461976,-0.2684986958941603,null,0.09867524173461976,-0.1525417909396542,null,0.09867524173461976,0.10826880413884048,null,-0.3941764741012174,-0.029801183584776285,null,-0.3941764741012174,-0.16099005254570034,null,-0.3941764741012174,-0.1525417909396542,null,-0.3941764741012174,-0.31758044043165135,null,-0.3941764741012174,-0.03813224258925324,null,-0.3941764741012174,-0.1475557815149975,null,0.029932667155894075,-0.18331494151964012,null,0.029932667155894075,-0.019836964795193732,null,0.029932667155894075,0.029932667155894075,null,0.029932667155894075,-0.1525417909396542,null,0.34431038265846003,-0.0047313832438697885,null,0.34431038265846003,0.0314760334873968,null,0.34431038265846003,0.04186086078200178,null,0.34431038265846003,0.15159541807879942,null,-0.37297677965205844,-0.0047313832438697885,null,-0.37297677965205844,-0.2019790717947602,null,-0.37297677965205844,-0.06982780344795307,null,-0.37297677965205844,-0.14418358231852169,null,-0.37297677965205844,-0.34998057298371726,null,-0.37297677965205844,-0.26664326521285203,null,0.16237135439767816,-0.2019790717947602,null,0.16237135439767816,0.07289288779861273,null,0.16237135439767816,0.0314760334873968,null,0.16237135439767816,-0.015425676670620659,null,0.16237135439767816,-0.1485688270873635,null,0.16237135439767816,0.15159541807879942,null,0.16237135439767816,0.38679329179715366,null,-0.2019790717947602,-0.03813224258925324,null,-0.2019790717947602,-0.3679621126465634,null,-0.2019790717947602,-0.029801183584776285,null,-0.2019790717947602,-0.2684986958941603,null,-0.2019790717947602,0.05738401308241447,null,-0.2019790717947602,0.2199890459941068,null,-0.2019790717947602,-0.1525417909396542,null,0.9679242019879136,0.4444279817634384,null,-0.03813224258925324,0.09298356018026557,null,-0.03813224258925324,-0.24037277792153125,null,-0.03813224258925324,-0.04300014655045063,null,-0.03813224258925324,0.07289288779861273,null,-0.03813224258925324,0.0314760334873968,null,-0.03813224258925324,0.04161290291716799,null,-0.03813224258925324,-0.015425676670620659,null,-0.03813224258925324,0.04186086078200178,null,-0.03813224258925324,-0.1485688270873635,null,-0.03813224258925324,-0.33069173887861597,null,-0.03813224258925324,-0.6038232685444063,null,-0.03813224258925324,0.04795044652902275,null,-0.03813224258925324,-0.26664326521285203,null,-0.03813224258925324,0.15159541807879942,null,-0.03813224258925324,0.5581092316734702,null,-0.03813224258925324,0.38679329179715366,null,-0.3932483374816785,0.07289288779861273,null,-0.3932483374816785,0.04161290291716799,null,-0.3932483374816785,-0.36521988476255657,null,-0.3932483374816785,-0.026503424773853996,null,-0.3932483374816785,-0.26664326521285203,null,0.285700083758478,-0.04300014655045063,null,0.285700083758478,0.07289288779861273,null,0.285700083758478,-0.015425676670620659,null,0.285700083758478,0.04186086078200178,null,0.285700083758478,0.18264299289460498,null,0.285700083758478,-0.026503424773853996,null,-0.34998057298371726,-0.1598074633729774,null,-0.34998057298371726,0.24499629397250539,null,-0.34998057298371726,-0.18331494151964012,null,-0.01943244040904366,-0.0047313832438697885,null,-0.01943244040904366,0.308941870914912,null,-0.01943244040904366,-0.015425676670620659,null,-0.01943244040904366,-0.4632495056332087,null,-0.01943244040904366,0.15159541807879942,null,-0.31758044043165135,-0.0837211111103101,null,-0.31758044043165135,0.15408696002209035,null,-0.31758044043165135,0.07289288779861273,null,-0.31758044043165135,0.04161290291716799,null,-0.31758044043165135,-0.4632495056332087,null,-0.31758044043165135,-0.49046922214465916,null,0.10826880413884048,0.15408696002209035,null,0.10826880413884048,-0.0047313832438697885,null,0.10826880413884048,-0.04300014655045063,null,0.10826880413884048,0.07289288779861273,null,0.10826880413884048,0.04161290291716799,null,0.10826880413884048,-0.015425676670620659,null,0.10826880413884048,-0.14418358231852169,null,0.10826880413884048,0.04186086078200178,null,0.10826880413884048,0.18264299289460498,null,0.10826880413884048,-0.026503424773853996,null,0.10826880413884048,-0.26664326521285203,null,0.10826880413884048,0.46128169576639794,null,-0.4632495056332087,-0.26875484154067814,null,-0.4632495056332087,-0.18331494151964012,null,0.2308682973145265,-0.019836964795193732,null,-0.14418358231852169,-0.09621356224212191,null,-0.14418358231852169,-0.3145556763044115,null,-0.14418358231852169,0.1617090422358554,null,-0.14418358231852169,-0.08107862693845971,null,-0.14418358231852169,-0.3679621126465634,null,-0.14418358231852169,-0.019836964795193732,null,-0.14418358231852169,-0.1598074633729774,null,-0.14418358231852169,-0.0973146367405076,null,-0.14418358231852169,-0.017891261716670416,null,-0.14418358231852169,-0.16099005254570034,null,-0.14418358231852169,-0.1525417909396542,null,-0.14418358231852169,-0.2584158152203029,null,-0.14418358231852169,0.24443460278385945,null,-0.14418358231852169,0.0866627696161112,null,-0.14418358231852169,-0.1475557815149975,null,-0.14418358231852169,-0.2684986958941603,null,-0.14418358231852169,-0.18331494151964012,null,-0.14418358231852169,-0.03355361031321013,null,-0.14418358231852169,-0.029801183584776285,null,0.15408696002209035,-0.16099005254570034,null,0.15408696002209035,-0.1525417909396542,null,0.15408696002209035,-0.029801183584776285,null,0.15408696002209035,0.24443460278385945,null,0.15408696002209035,0.45773840690547346,null,0.15408696002209035,0.0866627696161112,null,0.15408696002209035,0.30202511792371556,null,0.15408696002209035,0.34708502424948007,null,0.15408696002209035,0.2199890459941068,null,0.15408696002209035,-0.06738567964579113,null,0.15408696002209035,0.07508378226577012,null,-0.36521988476255657,0.1617090422358554,null,-0.36521988476255657,-0.029801183584776285,null,-0.36521988476255657,-0.12608651097960275,null,-0.36521988476255657,-0.1525417909396542,null,0.4517593069809266,-0.06982780344795307,null,0.4517593069809266,0.24443460278385945,null,0.4517593069809266,0.24499629397250539,null,-0.04300014655045063,-0.2584158152203029,null,-0.04300014655045063,-0.20683200791586767,null,-0.04300014655045063,-0.0973146367405076,null,-0.04300014655045063,-0.18331494151964012,null,-0.04300014655045063,-0.16099005254570034,null,-0.04300014655045063,-0.1525417909396542,null,-0.04300014655045063,0.2545212263042173,null,-0.04300014655045063,0.4444279817634384,null,-0.04300014655045063,-0.3679621126465634,null,-0.04300014655045063,-0.2684986958941603,null,-0.04300014655045063,-0.029801183584776285,null,-0.04300014655045063,-0.1475557815149975,null,-0.04300014655045063,0.24499629397250539,null,-0.04300014655045063,-0.019836964795193732,null,-0.04300014655045063,0.2199890459941068,null,-0.04300014655045063,0.05738401308241447,null,-0.12608651097960275,-0.0047313832438697885,null,-0.12608651097960275,0.09298356018026557,null,-0.12608651097960275,0.11859775091849849,null,-0.12608651097960275,0.07289288779861273,null,-0.12608651097960275,0.0314760334873968,null,0.3452107531112408,-0.029801183584776285,null,-0.08107862693845971,0.07289288779861273,null,-0.08107862693845971,0.0314760334873968,null,-0.08107862693845971,-0.015425676670620659,null,-0.08107862693845971,-0.1485688270873635,null,-0.08107862693845971,-0.33069173887861597,null,0.0866627696161112,0.0314760334873968,null,0.0866627696161112,-0.06982780344795307,null,0.0866627696161112,0.04186086078200178,null,0.0866627696161112,0.18264299289460498,null,0.0866627696161112,-0.26664326521285203,null,0.0866627696161112,0.15159541807879942,null,0.2867872825750589,0.45773840690547346,null,0.2867872825750589,-0.1598074633729774,null,-0.6801412602876136,-0.3679621126465634,null,-0.6801412602876136,-0.029801183584776285,null,-0.015425676670620659,0.24499629397250539,null,-0.015425676670620659,-0.3679621126465634,null,-0.015425676670620659,-0.029801183584776285,null,-0.015425676670620659,-0.16099005254570034,null,-0.015425676670620659,0.24443460278385945,null,-0.015425676670620659,-0.1525417909396542,null,-0.015425676670620659,-0.09621356224212191,null,-0.015425676670620659,-0.18331494151964012,null,-0.015425676670620659,-0.019836964795193732,null,-0.015425676670620659,-0.017891261716670416,null,-0.015425676670620659,0.30202511792371556,null,-0.015425676670620659,-0.0973146367405076,null,-0.015425676670620659,-0.1598074633729774,null,-0.015425676670620659,0.4130614078352823,null,-0.015425676670620659,-0.20683200791586767,null,-0.015425676670620659,-0.06738567964579113,null,-0.015425676670620659,-0.2584158152203029,null,-0.015425676670620659,0.1617090422358554,null,-0.015425676670620659,-0.03355361031321013,null,-0.026503424773853996,-0.1475557815149975,null,-0.026503424773853996,-0.18331494151964012,null,-0.026503424773853996,-0.16099005254570034,null,-0.026503424773853996,-0.1525417909396542,null,-0.026503424773853996,-0.017891261716670416,null,-0.026503424773853996,0.24443460278385945,null,-0.026503424773853996,0.07508378226577012,null,-0.026503424773853996,0.2199890459941068,null,-0.026503424773853996,-0.019836964795193732,null,-0.026503424773853996,0.24499629397250539,null,-0.029801183584776285,-0.0837211111103101,null,-0.029801183584776285,-0.0047313832438697885,null,-0.029801183584776285,0.09298356018026557,null,-0.029801183584776285,0.11859775091849849,null,-0.029801183584776285,0.308941870914912,null,-0.029801183584776285,0.07289288779861273,null,-0.029801183584776285,0.0314760334873968,null,-0.029801183584776285,0.04161290291716799,null,-0.029801183584776285,0.03493394165897469,null,-0.029801183584776285,0.18264299289460498,null,-0.029801183584776285,-0.1485688270873635,null,-0.029801183584776285,-0.33069173887861597,null,-0.029801183584776285,0.04795044652902275,null,-0.029801183584776285,-0.49046922214465916,null,-0.029801183584776285,0.6103982357912492,null,-0.029801183584776285,-0.26664326521285203,null,-0.029801183584776285,0.15159541807879942,null,-0.029801183584776285,0.38679329179715366,null,-0.029801183584776285,0.10424602681423206,null,-0.06982780344795307,-0.16099005254570034,null,-0.06982780344795307,-0.1525417909396542,null,-0.06982780344795307,0.2199890459941068,null,-0.06982780344795307,-0.019836964795193732,null,-0.06982780344795307,0.24499629397250539,null,-0.06982780344795307,-0.26875484154067814,null,-0.06982780344795307,-0.20683200791586767,null,-0.06982780344795307,-0.3145556763044115,null,-0.06982780344795307,-0.2584158152203029,null,0.2199890459941068,-0.0047313832438697885,null,0.2199890459941068,0.09298356018026557,null,0.2199890459941068,0.308941870914912,null,0.2199890459941068,0.07289288779861273,null,0.2199890459941068,0.0314760334873968,null,0.2199890459941068,0.04186086078200178,null,0.2199890459941068,0.5581092316734702,null,-0.1475557815149975,0.09298356018026557,null,-0.1475557815149975,-0.24037277792153125,null,-0.1475557815149975,0.0314760334873968,null,-0.1475557815149975,0.04161290291716799,null,-0.1475557815149975,0.04186086078200178,null,-0.1475557815149975,-0.1485688270873635,null,-0.1475557815149975,-0.33069173887861597,null,0.2545212263042173,0.09298356018026557,null,0.2545212263042173,-0.17279284652019228,null,0.2545212263042173,0.0314760334873968,null,0.2545212263042173,0.03493394165897469,null,0.2545212263042173,0.6103982357912492,null,0.2545212263042173,0.38679329179715366,null,0.07508378226577012,-0.0047313832438697885,null,0.07508378226577012,0.11859775091849849,null,0.07508378226577012,-0.24037277792153125,null,0.07508378226577012,0.0314760334873968,null,0.07508378226577012,0.04186086078200178,null,0.1617090422358554,0.09298356018026557,null,0.1617090422358554,0.308941870914912,null,0.1617090422358554,0.04161290291716799,null,0.1617090422358554,0.04186086078200178,null,0.1617090422358554,0.18264299289460498,null,0.1617090422358554,0.48510911152089337,null,-0.03355361031321013,0.0314760334873968,null,-0.03355361031321013,0.03493394165897469,null,-0.03355361031321013,0.04186086078200178,null,-0.1485688270873635,-0.06738567964579113,null,-0.1485688270873635,-0.16099005254570034,null,-0.1485688270873635,-0.1525417909396542,null,-0.1485688270873635,-0.0973146367405076,null,-0.1485688270873635,0.24443460278385945,null,-0.1485688270873635,-0.18331494151964012,null,-0.2684986958941603,0.0314760334873968,null,0.04186086078200178,-0.1598074633729774,null,0.04186086078200178,-0.18331494151964012,null,0.04186086078200178,-0.20683200791586767,null,0.04186086078200178,-0.019836964795193732,null,0.04186086078200178,0.45773840690547346,null,0.04186086078200178,0.24443460278385945,null,0.04186086078200178,-0.017891261716670416,null,0.04186086078200178,-0.3145556763044115,null,0.04186086078200178,-0.06738567964579113,null,0.38679329179715366,0.45773840690547346,null,-0.1525417909396542,-0.0837211111103101,null,-0.1525417909396542,-0.0047313832438697885,null,-0.1525417909396542,0.11859775091849849,null,-0.1525417909396542,-0.24037277792153125,null,-0.1525417909396542,0.0314760334873968,null,-0.1525417909396542,0.04161290291716799,null,-0.1525417909396542,0.18264299289460498,null,-0.1525417909396542,-0.49046922214465916,null,-0.1525417909396542,-0.3882895313691459,null,-0.0973146367405076,0.11859775091849849,null,-0.0973146367405076,0.07289288779861273,null,-0.0973146367405076,0.18264299289460498,null,-0.18331494151964012,-0.0047313832438697885,null,-0.18331494151964012,0.09298356018026557,null,-0.18331494151964012,0.07289288779861273,null,-0.18331494151964012,0.0314760334873968,null,-0.18331494151964012,-0.49046922214465916,null,-0.18331494151964012,0.15159541807879942,null,-0.49046922214465916,-0.3145556763044115,null,-0.49046922214465916,-0.20683200791586767,null,0.0314760334873968,0.4444279817634384,null,0.0314760334873968,-0.3145556763044115,null,0.0314760334873968,0.3740462082244107,null,0.0314760334873968,0.4130614078352823,null,0.0314760334873968,-0.16099005254570034,null,0.0314760334873968,-0.1598074633729774,null,0.0314760334873968,-0.26875484154067814,null,0.03493394165897469,0.24443460278385945,null,0.03493394165897469,-0.1598074633729774,null,0.03493394165897469,0.24499629397250539,null,0.03493394165897469,0.34708502424948007,null,0.03493394165897469,-0.09621356224212191,null,0.03493394165897469,-0.26875484154067814,null,0.03493394165897469,-0.06738567964579113,null,-0.0047313832438697885,-0.019836964795193732,null,-0.0047313832438697885,-0.1598074633729774,null,-0.0047313832438697885,-0.3145556763044115,null,-0.0047313832438697885,-0.3679621126465634,null,-0.0047313832438697885,0.24499629397250539,null,-0.0047313832438697885,-0.20683200791586767,null,-0.0047313832438697885,0.3740462082244107,null,-0.0047313832438697885,0.30202511792371556,null,-0.2584158152203029,0.18264299289460498,null,0.5581092316734702,0.3740462082244107,null,0.4444279817634384,0.07289288779861273,null,0.4444279817634384,0.04161290291716799,null,0.4444279817634384,0.18264299289460498,null,0.48510911152089337,0.24499629397250539,null,0.48510911152089337,-0.019836964795193732,null,0.30202511792371556,0.07289288779861273,null,0.30202511792371556,0.18264299289460498,null,-0.06738567964579113,-0.4496111041042629,null,0.46128169576639794,-0.019836964795193732,null,-0.17279284652019228,-0.019836964795193732,null,-0.09621356224212191,-0.09687183370756937,null,0.04161290291716799,0.24499629397250539,null,0.04161290291716799,0.3740462082244107,null,0.15159541807879942,0.24499629397250539,null,-0.3882895313691459,-0.019836964795193732,null,0.45773840690547346,0.09298356018026557,null,0.4130614078352823,0.07289288779861273,null,0.4130614078352823,0.18264299289460498,null,0.24499629397250539,0.7481819399079601,null,-0.16099005254570034,-0.0837211111103101,null,-0.16099005254570034,-0.24037277792153125,null,0.7481819399079601,0.24443460278385945,null,0.07289288779861273,-0.019836964795193732,null,0.07289288779861273,0.24443460278385945,null,-0.26664326521285203,-0.019836964795193732,null,-0.26664326521285203,-0.26875484154067814,null,0.1482964818564254,-0.019836964795193732,null,-0.33069173887861597,-0.3679621126465634,null,0.18264299289460498,-0.20683200791586767,null,0.18264299289460498,-0.019836964795193732,null,0.18264299289460498,0.34708502424948007,null,-0.4956076212173491,-0.019836964795193732,null,0.11859775091849849,-0.019836964795193732,null,0.11859775091849849,0.3740462082244107,null,0.3740462082244107,0.09298356018026557,null,-0.20683200791586767,0.09298356018026557,null,-0.019836964795193732,-0.4496111041042629,null,-0.019836964795193732,0.10424602681423206,null,0.09298356018026557,0.05738401308241447,null],\"type\":\"scatter\"},{\"hoverinfo\":\"text\",\"marker\":{\"color\":[0.00027124646758400705,0.06246111275203619,0.015453299016177794,0.04488747269789375,0.021570074720941877,0.014089488953821883,0.0037152847186878732,0.0014918556177334992,0.00334733327525786,0.005873540540046644,0.005793734593215126,0.01013447313815811,0.0,0.061300497047666797,0.0018734273250995699,0.004086062688717195,0.0011668956874299249,0.004504129688684762,0.0060552787679329315,0.00047090453290447816,0.02157073363966003,0.0019424847707163104,0.00024182587880608667,0.06355022126973994,0.019896766649338326,0.0034227543312655246,0.0003057054287575213,0.05376180618546687,0.00310563101071094,0.0,0.005455212350665218,0.008277453929894362,0.0009175217979769523,0.00025809521085106975,0.09657959954149713,0.01672649555493941,0.15464957741312255,0.0003099364497195708,0.019822985469726898,0.023974334872056465,0.013185638996078388,0.012987040309331852,0.005367949622495969,0.019523187550376946,0.002306016695556121,0.010593342375226002,0.0021190231171619267,0.04482839297392179,0.0036940709261335963,0.05998583077575399,0.004422002460525129,0.032400475948377805,0.005035369051209238,0.06284542334229705,0.019415337970530973,0.045362337712006366,0.0014668106818868133,0.0011681075127644408,0.0005746814202667757,0.02214105727863574,0.0012525115084999362,0.0016164028691537365,0.005252562752704402,0.00013675915441541128,0.000573787533064152,0.020468483191492342,0.019361794203796655,0.009541664186391182,0.0008505745477822362,0.005787562582486564,0.001551449827230147,0.03348447116537991,0.01689564707927333,9.95623654716009e-05,0.001518094889005393,0.0409037480326364,0.013952430385891834,0.0,0.0,0.00024182587880608667,0.0020390593292222373,0.022447003532418162,0.0,0.0046211154754125265,0.0004008852027597878,0.00889891891973261,0.0056986564075477125,0.006404975211356711,0.11103599701785817,0.02051309957764652,0.0022287500211660375,0.022054929060356974,0.00137155713572227,0.0035729446965371506,0.0015806482430008632,0.0007851840279074446,0.0019499656745365003,0.0014987989851426976,0.012400894227973656,0.008693764532898031],\"colorbar\":{\"thickness\":15,\"title\":{\"side\":\"right\",\"text\":\"Node Centrality\"},\"xanchor\":\"left\"},\"colorscale\":[[0.0,\"#440154\"],[0.1111111111111111,\"#482878\"],[0.2222222222222222,\"#3e4989\"],[0.3333333333333333,\"#31688e\"],[0.4444444444444444,\"#26828e\"],[0.5555555555555556,\"#1f9e89\"],[0.6666666666666666,\"#35b779\"],[0.7777777777777778,\"#6ece58\"],[0.8888888888888888,\"#b5de2b\"],[1.0,\"#fde725\"]],\"showscale\":true,\"size\":10},\"mode\":\"markers\",\"text\":[\"Ask_WellsFargo\\u003cbr\\u003eCentrality: 0.0003\",\"Delta\\u003cbr\\u003eCentrality: 0.0625\",\"day\\u003cbr\\u003eCentrality: 0.0155\",\"halloween\\u003cbr\\u003eCentrality: 0.0449\",\"comcastcares\\u003cbr\\u003eCentrality: 0.0216\",\"CoxHelp\\u003cbr\\u003eCentrality: 0.0141\",\"VerizonSupport\\u003cbr\\u003eCentrality: 0.0037\",\"delta\\u003cbr\\u003eCentrality: 0.0015\",\"last\\u003cbr\\u003eCentrality: 0.0033\",\"amp\\u003cbr\\u003eCentrality: 0.0059\",\"week\\u003cbr\\u003eCentrality: 0.0058\",\"XboxSupport\\u003cbr\\u003eCentrality: 0.0101\",\"AzureSupport\\u003cbr\\u003eCentrality: 0.0000\",\"account\\u003cbr\\u003eCentrality: 0.0613\",\"issues\\u003cbr\\u003eCentrality: 0.0019\",\"two\\u003cbr\\u003eCentrality: 0.0041\",\"sainsburys\\u003cbr\\u003eCentrality: 0.0012\",\"saturday\\u003cbr\\u003eCentrality: 0.0045\",\"slow\\u003cbr\\u003eCentrality: 0.0061\",\"VirginAtlantic\\u003cbr\\u003eCentrality: 0.0005\",\"days\\u003cbr\\u003eCentrality: 0.0216\",\"AskeBay\\u003cbr\\u003eCentrality: 0.0019\",\"chipotletweets\\u003cbr\\u003eCentrality: 0.0002\",\"AmericanAir\\u003cbr\\u003eCentrality: 0.0636\",\"Ask_Spectrum\\u003cbr\\u003eCentrality: 0.0199\",\"TMobileHelp\\u003cbr\\u003eCentrality: 0.0034\",\"tesco\\u003cbr\\u003eCentrality: 0.0003\",\"AmazonHelp\\u003cbr\\u003eCentrality: 0.0538\",\"question\\u003cbr\\u003eCentrality: 0.0031\",\"GWRHelp\\u003cbr\\u003eCentrality: 0.0000\",\"problem\\u003cbr\\u003eCentrality: 0.0055\",\"minutes\\u003cbr\\u003eCentrality: 0.0083\",\"southwestair\\u003cbr\\u003eCentrality: 0.0009\",\"MicrosoftHelps\\u003cbr\\u003eCentrality: 0.0003\",\"British_Airways\\u003cbr\\u003eCentrality: 0.0966\",\"AlaskaAir\\u003cbr\\u003eCentrality: 0.0167\",\"help\\u003cbr\\u003eCentrality: 0.1546\",\"azuresupport\\u003cbr\\u003eCentrality: 0.0003\",\"Tesco\\u003cbr\\u003eCentrality: 0.0198\",\"down\\u003cbr\\u003eCentrality: 0.0240\",\"issue\\u003cbr\\u003eCentrality: 0.0132\",\"refund\\u003cbr\\u003eCentrality: 0.0130\",\"customers\\u003cbr\\u003eCentrality: 0.0054\",\"error\\u003cbr\\u003eCentrality: 0.0195\",\"tomorrow\\u003cbr\\u003eCentrality: 0.0023\",\"AskPayPal\\u003cbr\\u003eCentrality: 0.0106\",\"cancel\\u003cbr\\u003eCentrality: 0.0021\",\"SouthwestAir\\u003cbr\\u003eCentrality: 0.0448\",\"BofA_Help\\u003cbr\\u003eCentrality: 0.0037\",\"service\\u003cbr\\u003eCentrality: 0.0600\",\"ago\\u003cbr\\u003eCentrality: 0.0044\",\"today\\u003cbr\\u003eCentrality: 0.0324\",\"ArgosHelpers\\u003cbr\\u003eCentrality: 0.0050\",\"Uber_Support\\u003cbr\\u003eCentrality: 0.0628\",\"VirginTrains\\u003cbr\\u003eCentrality: 0.0194\",\"ChipotleTweets\\u003cbr\\u003eCentrality: 0.0454\",\"over\\u003cbr\\u003eCentrality: 0.0015\",\"flight\\u003cbr\\u003eCentrality: 0.0012\",\"O2\\u003cbr\\u003eCentrality: 0.0006\",\"support\\u003cbr\\u003eCentrality: 0.0221\",\"HPSupport\\u003cbr\\u003eCentrality: 0.0013\",\"seconds\\u003cbr\\u003eCentrality: 0.0016\",\"morning\\u003cbr\\u003eCentrality: 0.0053\",\"Kimpton\\u003cbr\\u003eCentrality: 0.0001\",\"AirAsiaSupport\\u003cbr\\u003eCentrality: 0.0006\",\"london\\u003cbr\\u003eCentrality: 0.0205\",\"SpotifyCares\\u003cbr\\u003eCentrality: 0.0194\",\"UPSHelp\\u003cbr\\u003eCentrality: 0.0095\",\"Walmart\\u003cbr\\u003eCentrality: 0.0009\",\"next\\u003cbr\\u003eCentrality: 0.0058\",\"problems\\u003cbr\\u003eCentrality: 0.0016\",\"first\\u003cbr\\u003eCentrality: 0.0335\",\"customer\\u003cbr\\u003eCentrality: 0.0169\",\"VirginAmerica\\u003cbr\\u003eCentrality: 0.0001\",\"AskAmex\\u003cbr\\u003eCentrality: 0.0015\",\"AppleSupport\\u003cbr\\u003eCentrality: 0.0409\",\"ComcastCares\\u003cbr\\u003eCentrality: 0.0140\",\"nationalrailenq\\u003cbr\\u003eCentrality: 0.0000\",\"SW_Help\\u003cbr\\u003eCentrality: 0.0000\",\"americanair\\u003cbr\\u003eCentrality: 0.0002\",\"DropboxSupport\\u003cbr\\u003eCentrality: 0.0020\",\"hulu_support\\u003cbr\\u003eCentrality: 0.0224\",\"JetBlue\\u003cbr\\u003eCentrality: 0.0000\",\"services\\u003cbr\\u003eCentrality: 0.0046\",\"Postmates_Help\\u003cbr\\u003eCentrality: 0.0004\",\"marksandspencer\\u003cbr\\u003eCentrality: 0.0089\",\"months\\u003cbr\\u003eCentrality: 0.0057\",\"hour\\u003cbr\\u003eCentrality: 0.0064\",\"#\\u003cbr\\u003eCentrality: 0.1110\",\"AskPlayStation\\u003cbr\\u003eCentrality: 0.0205\",\"ATVIAssist\\u003cbr\\u003eCentrality: 0.0022\",\"hours\\u003cbr\\u003eCentrality: 0.0221\",\"yesterday\\u003cbr\\u003eCentrality: 0.0014\",\"tonight\\u003cbr\\u003eCentrality: 0.0036\",\"sprintcare\\u003cbr\\u003eCentrality: 0.0016\",\"ask_spectrum\\u003cbr\\u003eCentrality: 0.0008\",\"connection\\u003cbr\\u003eCentrality: 0.0019\",\"Morrisons\\u003cbr\\u003eCentrality: 0.0015\",\"year\\u003cbr\\u003eCentrality: 0.0124\",\"one\\u003cbr\\u003eCentrality: 0.0087\"],\"x\":[-0.6546906350092373,-0.06858016197906085,-0.06871111493737744,0.25191069688357615,-0.06874779098933372,-0.24375304286468433,-0.3097767080308606,0.3974713240318663,-0.12684056843381103,0.05856262155814915,-0.3332854856009484,-0.3349421689838807,-0.2727605190443643,-0.2901799756389168,-0.0799945769985523,-0.13932628823612028,0.35894220276171285,0.4787078713920553,0.05748459203197059,-0.04401622896875074,0.08671173060396907,0.5080275413674035,0.6641128372901809,0.018695130531189208,-0.1278438718029388,0.20613320701405707,-0.33147768151982276,-0.11200546961235827,0.30786533776589614,-0.6946591961848644,-0.35939312367912224,0.16428337488264017,0.47853920297355174,0.0751663347866941,0.012969260672868134,-0.18219933783772546,-0.07984588615739874,-0.7169557177706403,0.04843318529872546,-0.1224051041204789,-0.3689375912752355,0.1788397972144292,-0.30835821152026915,-0.01318175386127429,0.3335406691275294,-0.2690474083272878,-0.30981226321002947,-0.04859605138042569,-0.294305154450202,-0.028757155662039062,0.10761458315326719,0.11109439794081989,-0.023307723272976266,-0.004530637101628782,0.2210774132463957,0.0647436457735381,0.22425918996125543,-0.41456713584307703,-0.3134266688912252,-0.17655828171085955,0.32398304844490944,-0.27273377571034024,-0.30420786788500437,0.4804049071958219,0.5931234456768274,0.5762385504800616,-0.1949442759882929,0.09323866422204045,0.4615522771522725,-0.01985051893032523,0.08180956219572484,0.061080251019000054,-0.17658796877384017,-0.07658331571988329,-0.5248056475432881,-0.08439899966394968,0.12392634943750742,1.0,-0.3539641308548134,0.711522923880592,-0.5180693345540205,0.04871499114834131,-0.4405552649403481,0.4176757210654366,0.16018098500388,0.21953848931355527,-0.027862359539043584,-0.12459848723320396,0.20415674325626065,-0.14647421421287457,0.3106865244799722,-0.18552776137651877,-0.5106415181825261,-0.034120430625146775,0.29033425626013687,0.5560869461532886,0.21351227936485034,-0.11032514748861573,0.2732673116168588,-0.17419266550126997],\"y\":[0.010949568509356935,0.010565393326252283,-0.21623413010600587,-0.10676155333806232,0.1607817839820463,0.09867524173461976,-0.3941764741012174,0.029932667155894075,0.34431038265846003,-0.37297677965205844,0.16237135439767816,-0.2019790717947602,0.9679242019879136,-0.03813224258925324,-0.3932483374816785,0.285700083758478,-0.34998057298371726,-0.01943244040904366,-0.31758044043165135,-0.6038232685444063,0.10826880413884048,-0.4632495056332087,0.2308682973145265,-0.14418358231852169,0.15408696002209035,-0.36521988476255657,0.4517593069809266,-0.04300014655045063,-0.12608651097960275,0.3452107531112408,-0.08107862693845971,0.0866627696161112,0.2867872825750589,-0.6801412602876136,-0.015425676670620659,-0.026503424773853996,-0.029801183584776285,0.04795044652902275,-0.06982780344795307,0.2199890459941068,-0.1475557815149975,0.2545212263042173,0.07508378226577012,0.1617090422358554,-0.03355361031321013,-0.1485688270873635,-0.2684986958941603,0.04186086078200178,0.38679329179715366,-0.1525417909396542,-0.0973146367405076,-0.18331494151964012,-0.49046922214465916,0.0314760334873968,0.03493394165897469,-0.0047313832438697885,-0.2584158152203029,-0.017891261716670416,0.5581092316734702,0.4444279817634384,0.48510911152089337,0.30202511792371556,-0.06738567964579113,0.46128169576639794,-0.17279284652019228,-0.09621356224212191,0.04161290291716799,0.15159541807879942,-0.3882895313691459,0.45773840690547346,0.4130614078352823,0.24499629397250539,-0.16099005254570034,0.7481819399079601,-0.24037277792153125,0.07289288779861273,-0.26664326521285203,-0.09687183370756937,-0.9106226113324165,0.1482964818564254,-0.33069173887861597,0.18264299289460498,-0.4956076212173491,-0.26875484154067814,0.6103982357912492,0.11859775091849849,0.3740462082244107,-0.20683200791586767,-0.019836964795193732,0.09298356018026557,0.308941870914912,0.24443460278385945,0.05738401308241447,-0.3145556763044115,-0.0837211111103101,0.10424602681423206,0.34708502424948007,-0.4496111041042629,-0.1598074633729774,-0.3679621126465634],\"type\":\"scatter\"}],                        {\"hovermode\":\"closest\",\"margin\":{\"b\":20,\"l\":5,\"r\":5,\"t\":40},\"showlegend\":false,\"title\":{\"font\":{\"size\":16},\"text\":\"Customer Support Knowledge Graph\"},\"xaxis\":{\"showgrid\":false,\"showticklabels\":false,\"zeroline\":false},\"yaxis\":{\"showgrid\":false,\"showticklabels\":false,\"zeroline\":false},\"template\":{\"data\":{\"histogram2dcontour\":[{\"type\":\"histogram2dcontour\",\"colorbar\":{\"outlinewidth\":0,\"ticks\":\"\"},\"colorscale\":[[0.0,\"#0d0887\"],[0.1111111111111111,\"#46039f\"],[0.2222222222222222,\"#7201a8\"],[0.3333333333333333,\"#9c179e\"],[0.4444444444444444,\"#bd3786\"],[0.5555555555555556,\"#d8576b\"],[0.6666666666666666,\"#ed7953\"],[0.7777777777777778,\"#fb9f3a\"],[0.8888888888888888,\"#fdca26\"],[1.0,\"#f0f921\"]]}],\"choropleth\":[{\"type\":\"choropleth\",\"colorbar\":{\"outlinewidth\":0,\"ticks\":\"\"}}],\"histogram2d\":[{\"type\":\"histogram2d\",\"colorbar\":{\"outlinewidth\":0,\"ticks\":\"\"},\"colorscale\":[[0.0,\"#0d0887\"],[0.1111111111111111,\"#46039f\"],[0.2222222222222222,\"#7201a8\"],[0.3333333333333333,\"#9c179e\"],[0.4444444444444444,\"#bd3786\"],[0.5555555555555556,\"#d8576b\"],[0.6666666666666666,\"#ed7953\"],[0.7777777777777778,\"#fb9f3a\"],[0.8888888888888888,\"#fdca26\"],[1.0,\"#f0f921\"]]}],\"heatmap\":[{\"type\":\"heatmap\",\"colorbar\":{\"outlinewidth\":0,\"ticks\":\"\"},\"colorscale\":[[0.0,\"#0d0887\"],[0.1111111111111111,\"#46039f\"],[0.2222222222222222,\"#7201a8\"],[0.3333333333333333,\"#9c179e\"],[0.4444444444444444,\"#bd3786\"],[0.5555555555555556,\"#d8576b\"],[0.6666666666666666,\"#ed7953\"],[0.7777777777777778,\"#fb9f3a\"],[0.8888888888888888,\"#fdca26\"],[1.0,\"#f0f921\"]]}],\"heatmapgl\":[{\"type\":\"heatmapgl\",\"colorbar\":{\"outlinewidth\":0,\"ticks\":\"\"},\"colorscale\":[[0.0,\"#0d0887\"],[0.1111111111111111,\"#46039f\"],[0.2222222222222222,\"#7201a8\"],[0.3333333333333333,\"#9c179e\"],[0.4444444444444444,\"#bd3786\"],[0.5555555555555556,\"#d8576b\"],[0.6666666666666666,\"#ed7953\"],[0.7777777777777778,\"#fb9f3a\"],[0.8888888888888888,\"#fdca26\"],[1.0,\"#f0f921\"]]}],\"contourcarpet\":[{\"type\":\"contourcarpet\",\"colorbar\":{\"outlinewidth\":0,\"ticks\":\"\"}}],\"contour\":[{\"type\":\"contour\",\"colorbar\":{\"outlinewidth\":0,\"ticks\":\"\"},\"colorscale\":[[0.0,\"#0d0887\"],[0.1111111111111111,\"#46039f\"],[0.2222222222222222,\"#7201a8\"],[0.3333333333333333,\"#9c179e\"],[0.4444444444444444,\"#bd3786\"],[0.5555555555555556,\"#d8576b\"],[0.6666666666666666,\"#ed7953\"],[0.7777777777777778,\"#fb9f3a\"],[0.8888888888888888,\"#fdca26\"],[1.0,\"#f0f921\"]]}],\"surface\":[{\"type\":\"surface\",\"colorbar\":{\"outlinewidth\":0,\"ticks\":\"\"},\"colorscale\":[[0.0,\"#0d0887\"],[0.1111111111111111,\"#46039f\"],[0.2222222222222222,\"#7201a8\"],[0.3333333333333333,\"#9c179e\"],[0.4444444444444444,\"#bd3786\"],[0.5555555555555556,\"#d8576b\"],[0.6666666666666666,\"#ed7953\"],[0.7777777777777778,\"#fb9f3a\"],[0.8888888888888888,\"#fdca26\"],[1.0,\"#f0f921\"]]}],\"mesh3d\":[{\"type\":\"mesh3d\",\"colorbar\":{\"outlinewidth\":0,\"ticks\":\"\"}}],\"scatter\":[{\"fillpattern\":{\"fillmode\":\"overlay\",\"size\":10,\"solidity\":0.2},\"type\":\"scatter\"}],\"parcoords\":[{\"type\":\"parcoords\",\"line\":{\"colorbar\":{\"outlinewidth\":0,\"ticks\":\"\"}}}],\"scatterpolargl\":[{\"type\":\"scatterpolargl\",\"marker\":{\"colorbar\":{\"outlinewidth\":0,\"ticks\":\"\"}}}],\"bar\":[{\"error_x\":{\"color\":\"#2a3f5f\"},\"error_y\":{\"color\":\"#2a3f5f\"},\"marker\":{\"line\":{\"color\":\"#E5ECF6\",\"width\":0.5},\"pattern\":{\"fillmode\":\"overlay\",\"size\":10,\"solidity\":0.2}},\"type\":\"bar\"}],\"scattergeo\":[{\"type\":\"scattergeo\",\"marker\":{\"colorbar\":{\"outlinewidth\":0,\"ticks\":\"\"}}}],\"scatterpolar\":[{\"type\":\"scatterpolar\",\"marker\":{\"colorbar\":{\"outlinewidth\":0,\"ticks\":\"\"}}}],\"histogram\":[{\"marker\":{\"pattern\":{\"fillmode\":\"overlay\",\"size\":10,\"solidity\":0.2}},\"type\":\"histogram\"}],\"scattergl\":[{\"type\":\"scattergl\",\"marker\":{\"colorbar\":{\"outlinewidth\":0,\"ticks\":\"\"}}}],\"scatter3d\":[{\"type\":\"scatter3d\",\"line\":{\"colorbar\":{\"outlinewidth\":0,\"ticks\":\"\"}},\"marker\":{\"colorbar\":{\"outlinewidth\":0,\"ticks\":\"\"}}}],\"scattermapbox\":[{\"type\":\"scattermapbox\",\"marker\":{\"colorbar\":{\"outlinewidth\":0,\"ticks\":\"\"}}}],\"scatterternary\":[{\"type\":\"scatterternary\",\"marker\":{\"colorbar\":{\"outlinewidth\":0,\"ticks\":\"\"}}}],\"scattercarpet\":[{\"type\":\"scattercarpet\",\"marker\":{\"colorbar\":{\"outlinewidth\":0,\"ticks\":\"\"}}}],\"carpet\":[{\"aaxis\":{\"endlinecolor\":\"#2a3f5f\",\"gridcolor\":\"white\",\"linecolor\":\"white\",\"minorgridcolor\":\"white\",\"startlinecolor\":\"#2a3f5f\"},\"baxis\":{\"endlinecolor\":\"#2a3f5f\",\"gridcolor\":\"white\",\"linecolor\":\"white\",\"minorgridcolor\":\"white\",\"startlinecolor\":\"#2a3f5f\"},\"type\":\"carpet\"}],\"table\":[{\"cells\":{\"fill\":{\"color\":\"#EBF0F8\"},\"line\":{\"color\":\"white\"}},\"header\":{\"fill\":{\"color\":\"#C8D4E3\"},\"line\":{\"color\":\"white\"}},\"type\":\"table\"}],\"barpolar\":[{\"marker\":{\"line\":{\"color\":\"#E5ECF6\",\"width\":0.5},\"pattern\":{\"fillmode\":\"overlay\",\"size\":10,\"solidity\":0.2}},\"type\":\"barpolar\"}],\"pie\":[{\"automargin\":true,\"type\":\"pie\"}]},\"layout\":{\"autotypenumbers\":\"strict\",\"colorway\":[\"#636efa\",\"#EF553B\",\"#00cc96\",\"#ab63fa\",\"#FFA15A\",\"#19d3f3\",\"#FF6692\",\"#B6E880\",\"#FF97FF\",\"#FECB52\"],\"font\":{\"color\":\"#2a3f5f\"},\"hovermode\":\"closest\",\"hoverlabel\":{\"align\":\"left\"},\"paper_bgcolor\":\"white\",\"plot_bgcolor\":\"#E5ECF6\",\"polar\":{\"bgcolor\":\"#E5ECF6\",\"angularaxis\":{\"gridcolor\":\"white\",\"linecolor\":\"white\",\"ticks\":\"\"},\"radialaxis\":{\"gridcolor\":\"white\",\"linecolor\":\"white\",\"ticks\":\"\"}},\"ternary\":{\"bgcolor\":\"#E5ECF6\",\"aaxis\":{\"gridcolor\":\"white\",\"linecolor\":\"white\",\"ticks\":\"\"},\"baxis\":{\"gridcolor\":\"white\",\"linecolor\":\"white\",\"ticks\":\"\"},\"caxis\":{\"gridcolor\":\"white\",\"linecolor\":\"white\",\"ticks\":\"\"}},\"coloraxis\":{\"colorbar\":{\"outlinewidth\":0,\"ticks\":\"\"}},\"colorscale\":{\"sequential\":[[0.0,\"#0d0887\"],[0.1111111111111111,\"#46039f\"],[0.2222222222222222,\"#7201a8\"],[0.3333333333333333,\"#9c179e\"],[0.4444444444444444,\"#bd3786\"],[0.5555555555555556,\"#d8576b\"],[0.6666666666666666,\"#ed7953\"],[0.7777777777777778,\"#fb9f3a\"],[0.8888888888888888,\"#fdca26\"],[1.0,\"#f0f921\"]],\"sequentialminus\":[[0.0,\"#0d0887\"],[0.1111111111111111,\"#46039f\"],[0.2222222222222222,\"#7201a8\"],[0.3333333333333333,\"#9c179e\"],[0.4444444444444444,\"#bd3786\"],[0.5555555555555556,\"#d8576b\"],[0.6666666666666666,\"#ed7953\"],[0.7777777777777778,\"#fb9f3a\"],[0.8888888888888888,\"#fdca26\"],[1.0,\"#f0f921\"]],\"diverging\":[[0,\"#8e0152\"],[0.1,\"#c51b7d\"],[0.2,\"#de77ae\"],[0.3,\"#f1b6da\"],[0.4,\"#fde0ef\"],[0.5,\"#f7f7f7\"],[0.6,\"#e6f5d0\"],[0.7,\"#b8e186\"],[0.8,\"#7fbc41\"],[0.9,\"#4d9221\"],[1,\"#276419\"]]},\"xaxis\":{\"gridcolor\":\"white\",\"linecolor\":\"white\",\"ticks\":\"\",\"title\":{\"standoff\":15},\"zerolinecolor\":\"white\",\"automargin\":true,\"zerolinewidth\":2},\"yaxis\":{\"gridcolor\":\"white\",\"linecolor\":\"white\",\"ticks\":\"\",\"title\":{\"standoff\":15},\"zerolinecolor\":\"white\",\"automargin\":true,\"zerolinewidth\":2},\"scene\":{\"xaxis\":{\"backgroundcolor\":\"#E5ECF6\",\"gridcolor\":\"white\",\"linecolor\":\"white\",\"showbackground\":true,\"ticks\":\"\",\"zerolinecolor\":\"white\",\"gridwidth\":2},\"yaxis\":{\"backgroundcolor\":\"#E5ECF6\",\"gridcolor\":\"white\",\"linecolor\":\"white\",\"showbackground\":true,\"ticks\":\"\",\"zerolinecolor\":\"white\",\"gridwidth\":2},\"zaxis\":{\"backgroundcolor\":\"#E5ECF6\",\"gridcolor\":\"white\",\"linecolor\":\"white\",\"showbackground\":true,\"ticks\":\"\",\"zerolinecolor\":\"white\",\"gridwidth\":2}},\"shapedefaults\":{\"line\":{\"color\":\"#2a3f5f\"}},\"annotationdefaults\":{\"arrowcolor\":\"#2a3f5f\",\"arrowhead\":0,\"arrowwidth\":1},\"geo\":{\"bgcolor\":\"white\",\"landcolor\":\"#E5ECF6\",\"subunitcolor\":\"white\",\"showland\":true,\"showlakes\":true,\"lakecolor\":\"white\"},\"title\":{\"x\":0.05},\"mapbox\":{\"style\":\"light\"}}}},                        {\"responsive\": true}                    ).then(function(){\n",
              "                            \n",
              "var gd = document.getElementById('77813463-80f6-4b01-b7a8-3c269376a396');\n",
              "var x = new MutationObserver(function (mutations, observer) {{\n",
              "        var display = window.getComputedStyle(gd).display;\n",
              "        if (!display || display === 'none') {{\n",
              "            console.log([gd, 'removed!']);\n",
              "            Plotly.purge(gd);\n",
              "            observer.disconnect();\n",
              "        }}\n",
              "}});\n",
              "\n",
              "// Listen for the removal of the full notebook cells\n",
              "var notebookContainer = gd.closest('#notebook-container');\n",
              "if (notebookContainer) {{\n",
              "    x.observe(notebookContainer, {childList: true});\n",
              "}}\n",
              "\n",
              "// Listen for the clearing of the current output cell\n",
              "var outputEl = gd.closest('.output');\n",
              "if (outputEl) {{\n",
              "    x.observe(outputEl, {childList: true});\n",
              "}}\n",
              "\n",
              "                        })                };                            </script>        </div>\n",
              "</body>\n",
              "</html>"
            ]
          },
          "metadata": {}
        }
      ]
    },
    {
      "cell_type": "markdown",
      "source": [
        "Summarised Knowledge Graph"
      ],
      "metadata": {
        "id": "orEaogXF_KSb"
      }
    },
    {
      "cell_type": "code",
      "source": [
        "import networkx as nx\n",
        "from google.colab import files\n",
        "\n",
        "def graph_to_text(G):\n",
        "    lines = []\n",
        "\n",
        "    # Add nodes and their attributes\n",
        "    lines.append(\"NODES:\")\n",
        "    for node, data in G.nodes(data=True):\n",
        "        attr_str = \"|\".join(f\"{k}:{v}\" for k, v in data.items())\n",
        "        lines.append(f\"{node}\\t{attr_str}\")\n",
        "\n",
        "    # Add edges and their attributes\n",
        "    lines.append(\"\\nEDGES:\")\n",
        "    for u, v, data in G.edges(data=True):\n",
        "        attr_str = \"|\".join(f\"{k}:{v}\" for k, v in data.items())\n",
        "        lines.append(f\"{u}\\t{v}\\t{attr_str}\")\n",
        "\n",
        "    return \"\\n\".join(lines)\n",
        "\n",
        "def export_graph_as_text(G, filename='twitter_customer_service_graph_metadata.txt'):\n",
        "    text_representation = graph_to_text(G)\n",
        "\n",
        "    return text_representation\n",
        "\n",
        "\n",
        "# Usage\n",
        "knowledge_graph_summary = export_graph_as_text(G)"
      ],
      "metadata": {
        "id": "8qo9QKwG7Eud"
      },
      "execution_count": 22,
      "outputs": []
    },
    {
      "cell_type": "markdown",
      "source": [
        "Get Summary and high Priority Nodes"
      ],
      "metadata": {
        "id": "eXCDVcME_xEd"
      }
    },
    {
      "cell_type": "code",
      "source": [
        "\n",
        "from collections import Counter\n",
        "\n",
        "\n",
        "def generate_metadata_summary(G):\n",
        "    summary = []\n",
        "\n",
        "    # Total nodes and edges\n",
        "    summary.append(f\"Total nodes in the graph: {G.number_of_nodes()}\")\n",
        "    summary.append(f\"Total edges in the graph: {G.number_of_edges()}\")\n",
        "\n",
        "    # Company statistics\n",
        "    companies = [node for node, data in G.nodes(data=True) if data.get('type') == 'company']\n",
        "    summary.append(f\"\\nNumber of unique companies: {len(companies)}\")\n",
        "    summary.append(\"Top 5 companies by connections:\")\n",
        "    company_degrees = sorted([(company, G.degree(company)) for company in companies], key=lambda x: x[1], reverse=True)[:5]\n",
        "    for company, degree in company_degrees:\n",
        "        summary.append(f\"  - {company}: {degree} connections\")\n",
        "\n",
        "    # Customer support term statistics\n",
        "    terms = [node for node, data in G.nodes(data=True) if data.get('type') == 'term']\n",
        "    summary.append(f\"\\nNumber of unique customer support terms: {len(terms)}\")\n",
        "    summary.append(\"Top 10 customer support terms by connections:\")\n",
        "    term_degrees = sorted([(term, G.degree(term)) for term in terms], key=lambda x: x[1], reverse=True)[:10]\n",
        "    for term, degree in term_degrees:\n",
        "        summary.append(f\"  - {term}: {degree} connections\")\n",
        "\n",
        "    # Hashtag statistics\n",
        "    hashtags = [node for node, data in G.nodes(data=True) if data.get('type') == 'hashtag']\n",
        "    summary.append(f\"\\nNumber of unique hashtags: {len(hashtags)}\")\n",
        "    summary.append(\"Top 5 hashtags by connections:\")\n",
        "    hashtag_degrees = sorted([(hashtag, G.degree(hashtag)) for hashtag in hashtags], key=lambda x: x[1], reverse=True)[:5]\n",
        "    for hashtag, degree in hashtag_degrees:\n",
        "        summary.append(f\"  - {hashtag}: {degree} connections\")\n",
        "\n",
        "    # Graph structure statistics\n",
        "    summary.append(f\"\\nGraph density: {nx.density(G):.4f}\")\n",
        "    try:\n",
        "        summary.append(f\"Graph diameter: {nx.diameter(G)}\")\n",
        "    except nx.NetworkXError:\n",
        "        summary.append(\"Graph diameter: Not applicable (graph is not connected)\")\n",
        "\n",
        "    summary.append(f\"\\nTop 5 nodes by betweenness centrality:\")\n",
        "    betweenness = nx.betweenness_centrality(G)\n",
        "    top_betweenness = sorted(betweenness.items(), key=lambda x: x[1], reverse=True)[:5]\n",
        "    for node, centrality in top_betweenness:\n",
        "        summary.append(f\"  - {node}: {centrality:.4f}\")\n",
        "\n",
        "    return \"\\n\".join(summary)\n",
        "\n",
        "# Usage\n",
        "with open('/content/collated_threads.txt', 'r', encoding='utf-8') as file:\n",
        "    text = file.read()\n",
        "\n",
        "\n",
        "if G.number_of_nodes() > 0:\n",
        "    # Generate and print metadata summary\n",
        "    metadata_summary = generate_metadata_summary(G)\n",
        "else:\n",
        "    print(\"No nodes were created in the graph.\")"
      ],
      "metadata": {
        "id": "LlCvI0Vj_3sH"
      },
      "execution_count": 25,
      "outputs": []
    },
    {
      "cell_type": "markdown",
      "source": [
        "# Proposed Arch Vector DB"
      ],
      "metadata": {
        "id": "xJW5DgY8Dh9q"
      }
    },
    {
      "cell_type": "code",
      "source": [
        "import os\n",
        "from pinecone import Pinecone\n",
        "from sentence_transformers import SentenceTransformer\n",
        "import numpy as np\n",
        "\n",
        "# Initialize the sentence transformer model\n",
        "model = SentenceTransformer('all-MiniLM-L6-v2')\n",
        "\n",
        "# Initialize Pinecone\n",
        "pc = Pinecone(api_key=\"93ed05c3-1091-4c1b-b734-f2976eee3cd4\")\n",
        "\n",
        "index_name = \"vector-db-proposed-arch\"\n",
        "\n",
        "# Create Pinecone index if it doesn't exist\n",
        "if index_name not in pc.list_indexes().names():\n",
        "    pc.create_index(\n",
        "        name=index_name,\n",
        "        dimension=384,\n",
        "        metric=\"cosine\"\n",
        "    )\n",
        "\n",
        "# Connect to the index\n",
        "index = pc.Index(index_name)\n",
        "\n",
        "def preprocess_text(text, chunk_size=1000):\n",
        "    \"\"\"Split text into chunks.\"\"\"\n",
        "    return [text[i:i+chunk_size] for i in range(0, len(text), chunk_size)]\n",
        "\n",
        "def embed_and_upload(text, metadata, prefix):\n",
        "    \"\"\"Embed text chunks and upload to Pinecone.\"\"\"\n",
        "    chunks = preprocess_text(text)\n",
        "    for i, chunk in enumerate(chunks):\n",
        "        embedding = model.encode(chunk).tolist()\n",
        "        index.upsert(vectors=[(f\"{prefix}-{i}\", embedding, {**metadata, \"chunk\": i, \"text\": chunk})])\n",
        "\n",
        "# 1. Process Twitter threads data\n",
        "with open('/content/collated_threads.txt', 'r', encoding='utf-8') as file:\n",
        "    twitter_threads = file.read()\n",
        "\n",
        "embed_and_upload(twitter_threads, {\"type\": \"twitter_threads\"}, \"threads\")\n",
        "\n",
        "# 2. Process knowledge graph details\n",
        "knowledge_graph_details = export_graph_as_text(G)\n",
        "embed_and_upload(knowledge_graph_details, {\"type\": \"knowledge_graph\"}, \"graph\")\n",
        "\n",
        "# 3. Process metadata summary\n",
        "with open('metadata_summary.txt', 'r', encoding='utf-8') as file:\n",
        "    metadata_summary = file.read()\n",
        "\n",
        "embed_and_upload(metadata_summary, {\"type\": \"metadata_summary\"}, \"summary\")\n",
        "\n",
        "print(\"Vector database created and populated.\")\n",
        "\n",
        "\n"
      ],
      "metadata": {
        "colab": {
          "base_uri": "https://localhost:8080/"
        },
        "collapsed": true,
        "id": "F160MMhfH2ZP",
        "outputId": "7f3bdd5b-bb96-4b14-a1c0-0bd0c275a8ee"
      },
      "execution_count": 37,
      "outputs": [
        {
          "output_type": "stream",
          "name": "stdout",
          "text": [
            "Vector database created and populated.\n"
          ]
        }
      ]
    },
    {
      "cell_type": "code",
      "source": [
        "def query_vector_db(query_text, top_k=5):\n",
        "    \"\"\"\n",
        "    Query the vector database and return top k results as concatenated text.\n",
        "\n",
        "    :param query_text: The text to query the vector database\n",
        "    :param top_k: The number of top results to return\n",
        "    :return: Concatenated text from the top k results\n",
        "    \"\"\"\n",
        "    query_embedding = model.encode(query_text).tolist()\n",
        "    results = index.query(vector=query_embedding, top_k=top_k, include_metadata=True)\n",
        "\n",
        "    results_text = f\"Top {top_k} results for query: '{query_text}':\\n\\n\"\n",
        "    for result in results['matches']:\n",
        "        results_text += f\"Score: {result['score']:.4f}\\n\"\n",
        "        results_text += f\"Type: {result['metadata']['type']}\\n\"\n",
        "        results_text += f\"Text: {result['metadata']['text'][:200]}...\\n\\n\"  # Append first 200 characters\n",
        "    return results_text\n"
      ],
      "metadata": {
        "id": "BBEt3J-aXklX"
      },
      "execution_count": 40,
      "outputs": []
    },
    {
      "cell_type": "markdown",
      "source": [
        "## Calling Falcon Model"
      ],
      "metadata": {
        "id": "NlteFeDbT3z9"
      }
    },
    {
      "cell_type": "code",
      "source": [
        "from ai71 import AI71\n",
        "import os\n",
        "\n",
        "# Set your AI71 API key\n",
        "AI71_API_KEY = os.environ.get(\"AI71_API_KEY\", \"api71-api-524a603b-3fc5-4ae1-955f-3c7c2e636fc5\")\n",
        "\n",
        "# Initialize the AI71 client\n",
        "client = AI71(AI71_API_KEY)\n",
        "\n",
        "def send_prompt_to_falcon(static_instructions, vector_db_query, user_prompt, conversation_history, model=\"tiiuae/falcon-180B-chat\"):\n",
        "    \"\"\"\n",
        "    Send a prompt to the Falcon model using AI71 API and return the response.\n",
        "\n",
        "    :param static_instructions: Static set of instructions for the model\n",
        "    :param vector_db_query: Query result from the vector database\n",
        "    :param user_prompt: The user's prompt\n",
        "    :param conversation_history: The history of the conversation so far\n",
        "    :param model: The specific Falcon model to use (default is falcon-180B-chat)\n",
        "    :return: The model's response as a string\n",
        "    \"\"\"\n",
        "    try:\n",
        "        messages = []\n",
        "       # Append conversation history\n",
        "        for history in conversation_history:\n",
        "            messages.append(history)\n",
        "\n",
        "        # Combine all parts into a single prompt\n",
        "        messages = [\n",
        "            {\"role\": \"system\", \"content\": static_instructions},\n",
        "            {\"role\": \"system\", \"content\": f\"Relevant information from database: {vector_db_query}\"},\n",
        "            {\"role\": \"user\", \"content\": user_prompt},\n",
        "        ]\n",
        "\n",
        "        # Create a chat completion\n",
        "        response = client.chat.completions.create(\n",
        "            model=model,\n",
        "            messages=messages,\n",
        "        )\n",
        "\n",
        "        # Extract and return the model's response\n",
        "        return response.choices[0].message.content\n",
        "    except Exception as e:\n",
        "        return f\"An error occurred: {str(e)}\"\n"
      ],
      "metadata": {
        "id": "knrqgtfwSr-5"
      },
      "execution_count": 58,
      "outputs": []
    },
    {
      "cell_type": "markdown",
      "source": [
        "# Testing"
      ],
      "metadata": {
        "id": "y_4WzREzYQr4"
      }
    },
    {
      "cell_type": "code",
      "source": [
        "import pandas as pd\n",
        "from sklearn.feature_extraction.text import TfidfVectorizer\n",
        "from sklearn.metrics.pairwise import cosine_similarity\n",
        "import nltk\n",
        "from nltk.sentiment import SentimentIntensityAnalyzer\n",
        "import re\n",
        "\n",
        "# Download necessary NLTK data\n",
        "nltk.download('vader_lexicon')\n",
        "\n",
        "# Create the dictionary of test cases (same as before)\n",
        "test_cases = {\n",
        "    'Case 1': {\n",
        "        'user_message': \"@Microsoft I can't log into my account. Help!\",\n",
        "        'expected_response': \"I'm sorry to hear you're having trouble logging in. Can you please DM us with your account email address? We'll help you regain access.\",\n",
        "        'user_followup': \"Sent a DM.\",\n",
        "        'expected_followup_response': \"Thank you for sending a DM. We've received it and a support agent will assist you shortly with regaining access to your account.\"\n",
        "    },\n",
        "    'Case 2': {\n",
        "        'user_message': \"@Sprintcare Why is my bill so high this month?\",\n",
        "        'expected_response': \"I understand your concern about your bill. For your privacy, please DM us your account number and we'll review your charges in detail.\",\n",
        "        'user_followup': \"I don't want to DM. Can't you just tell me here?\",\n",
        "        'expected_followup_response': \"We take your privacy seriously and can't discuss specific account details publicly. DMing us is the quickest way to get a thorough explanation of your bill. Is there a general billing question I can help with instead?\"\n",
        "    }\n",
        "}\n",
        "# Convert the dictionary to a DataFrame\n",
        "df = pd.DataFrame.from_dict(test_cases, orient='index')\n",
        "\n",
        "def calculate_appropriateness(actual, expected):\n",
        "    # Check if key phrases are present\n",
        "    key_phrases = [\"DM\", \"direct message\", \"privacy\", \"account\", \"help\", \"assist\"]\n",
        "    actual_lower = actual.lower()\n",
        "    score = sum(phrase in actual_lower for phrase in key_phrases) / len(key_phrases)\n",
        "    return int(score * 40)  # 0-40 points\n",
        "\n",
        "def calculate_helpfulness(actual, expected):\n",
        "    # Check for action items or next steps\n",
        "    action_phrases = [\"please\", \"can you\", \"we'll\", \"we will\", \"next step\"]\n",
        "    actual_lower = actual.lower()\n",
        "    action_score = sum(phrase in actual_lower for phrase in action_phrases) / len(action_phrases)\n",
        "\n",
        "    # Check for specific information provided\n",
        "    info_score = len(re.findall(r'\\d+', actual)) / max(len(re.findall(r'\\d+', expected)), 1)\n",
        "\n",
        "    return int((action_score * 0.7 + info_score * 0.3) * 30)  # 0-30 points\n",
        "\n",
        "def calculate_tone(text):\n",
        "    sia = SentimentIntensityAnalyzer()\n",
        "    sentiment_scores = sia.polarity_scores(text)\n",
        "\n",
        "    # We want a positive but not overly positive tone\n",
        "    if sentiment_scores['compound'] > 0.5:\n",
        "        return 25  # Very positive\n",
        "    elif sentiment_scores['compound'] > 0:\n",
        "        return 30  # Moderately positive (ideal for customer service)\n",
        "    elif sentiment_scores['compound'] > -0.5:\n",
        "        return 20  # Neutral\n",
        "    else:\n",
        "        return 10  # Negative\n",
        "\n",
        "def calculate_similarity(text1, text2):\n",
        "    vectorizer = TfidfVectorizer().fit_transform([text1, text2])\n",
        "    cosine_sim = cosine_similarity(vectorizer)\n",
        "    return cosine_sim[0][1]\n",
        "\n",
        "def calculate_scores(actual_response, expected_response):\n",
        "    appropriateness = calculate_appropriateness(actual_response, expected_response)\n",
        "    helpfulness = calculate_helpfulness(actual_response, expected_response)\n",
        "    tone = calculate_tone(actual_response)\n",
        "\n",
        "    # Use similarity as a general check\n",
        "    similarity = calculate_similarity(actual_response, expected_response)\n",
        "\n",
        "    # Adjust scores based on overall similarity\n",
        "    appropriateness = int(appropriateness * (0.7 + 0.3 * similarity))\n",
        "    helpfulness = int(helpfulness * (0.7 + 0.3 * similarity))\n",
        "\n",
        "    total_score = appropriateness + helpfulness + tone\n",
        "\n",
        "    return {\n",
        "        'Appropriateness': appropriateness,\n",
        "        'Helpfulness': helpfulness,\n",
        "        'Tone': tone,\n",
        "        'Total Score': total_score\n",
        "    }\n",
        "\n",
        "# Function to process responses and calculate scores (same as before)\n",
        "def process_responses(df, actual_responses):\n",
        "    results = []\n",
        "    for index, row in df.iterrows():\n",
        "        # Initial response\n",
        "        initial_scores = calculate_scores(actual_responses[index]['initial'], row['expected_response'])\n",
        "        initial_scores['Case'] = index\n",
        "        initial_scores['Response Type'] = 'Initial'\n",
        "        results.append(initial_scores)\n",
        "\n",
        "        # Follow-up response\n",
        "        followup_scores = calculate_scores(actual_responses[index]['followup'], row['expected_followup_response'])\n",
        "        followup_scores['Case'] = index\n",
        "        followup_scores['Response Type'] = 'Follow-up'\n",
        "        results.append(followup_scores)\n",
        "\n",
        "    return pd.DataFrame(results)\n",
        "\n",
        "# Example usage:\n"
      ],
      "metadata": {
        "colab": {
          "base_uri": "https://localhost:8080/"
        },
        "id": "W1lD2GNpVfSJ",
        "outputId": "1d2d22cc-6330-4142-b070-7f81337de037"
      },
      "execution_count": 75,
      "outputs": [
        {
          "output_type": "stream",
          "name": "stderr",
          "text": [
            "[nltk_data] Downloading package vader_lexicon to /root/nltk_data...\n",
            "[nltk_data]   Package vader_lexicon is already up-to-date!\n"
          ]
        }
      ]
    },
    {
      "cell_type": "markdown",
      "source": [
        "# Proposed Arch Responses"
      ],
      "metadata": {
        "id": "vCqAIL50da41"
      }
    },
    {
      "cell_type": "code",
      "source": [
        "if __name__ == \"__main__\":\n",
        "    static_instructions = \"You are a customer service assistant on Twitter. Provide clear, concise, approprite, and helpful responses in the right tone to user queries. Always aim to resolve the user's issue in a polite and professional manner. Only provide one response to each query and only provide responses as the customer service assistant.\"\n",
        "    user_prompt = \"I don't want to DM. Can't you just tell me here?\"\n",
        "    vector_db_query = query_vector_db(user_prompt)\n",
        "    conversation_history = [{\"role\": \"user\", \"content\": \"@Sprintcare Why is my bill so high this month?\"},\n",
        "        {\"role\": \"assistant\", \"content\": \"I'm sorry to hear that you're experiencing an issue with your bill. Please send us a direct message with your account information and we'll be happy to take a look and provide you with an explanation. Thank you for bringing this to our attention.\"\n",
        "}]\n",
        "\n",
        "    print(\"Sending prompt to Falcon model...\")\n",
        "    response = send_prompt_to_falcon(static_instructions, vector_db_query, user_prompt, conversation_history)\n",
        "\n",
        "    print(response)"
      ],
      "metadata": {
        "colab": {
          "base_uri": "https://localhost:8080/"
        },
        "id": "yhBZZJYSbJTe",
        "outputId": "981675d4-ae16-4465-a8af-e8e9b4098f03"
      },
      "execution_count": 62,
      "outputs": [
        {
          "output_type": "stream",
          "name": "stdout",
          "text": [
            "Sending prompt to Falcon model...\n",
            " I'm sorry, but I'm not able to provide you with the information you're looking for via Twitter. However, I'd be happy to assist you if you could please provide me with more details about your query.\n"
          ]
        }
      ]
    },
    {
      "cell_type": "code",
      "source": [
        "actual_responses = {\n",
        "    'Case 1': {\n",
        "        'initial': \"Hi there! I'm sorry to hear that you're having trouble logging into your account. Can you please provide me with more details about the issue you're experiencing? Are you receiving any error messages? #MicrosoftSupport\",\n",
        "        'followup': \"Thank you for reaching out to us. We have received your DM and will respond to it as soon as possible. Please allow us some time to review your message and get back to you with a resolution. Thank you for your patience.\"\n",
        "    },\n",
        "    'Case 2': {\n",
        "        'initial': \"I'm sorry to hear that you're experiencing an issue with your bill. Please send us a direct message with your account information and we'll be happy to take a look and provide you with an explanation. Thank you for bringing this to our attention.\",\n",
        "        'followup': \"I'm sorry, but I'm not able to provide you with the information you're looking for via Twitter. However, I'd be happy to assist you if you could please provide me with more details about your query.\"\n",
        "    },\n",
        "}\n",
        "\n",
        "# Process responses and get scores\n",
        "scores_df = process_responses(df, actual_responses)\n",
        "\n",
        "# Calculate average score\n",
        "average_score = scores_df['Total Score'].mean()\n",
        "\n",
        "print(scores_df)\n",
        "print(f\"\\nAverage Score: {average_score:.2f}\")"
      ],
      "metadata": {
        "colab": {
          "base_uri": "https://localhost:8080/"
        },
        "id": "YsPg8qZvZwgn",
        "outputId": "6233c6af-186a-429d-aeca-441ae2e70024"
      },
      "execution_count": 76,
      "outputs": [
        {
          "output_type": "stream",
          "name": "stdout",
          "text": [
            "   Appropriateness  Helpfulness  Tone  Total Score    Case Response Type\n",
            "0                5            6    10           21  Case 1       Initial\n",
            "1                0            3    25           28  Case 1     Follow-up\n",
            "2               10            6    25           41  Case 2       Initial\n",
            "3                4            2    25           31  Case 2     Follow-up\n",
            "\n",
            "Average Score: 30.25\n"
          ]
        }
      ]
    },
    {
      "cell_type": "code",
      "source": [],
      "metadata": {
        "id": "JP5WQEoVhZ_C"
      },
      "execution_count": null,
      "outputs": []
    }
  ]
}